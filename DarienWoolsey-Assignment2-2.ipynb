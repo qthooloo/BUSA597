{
 "cells": [
  {
   "cell_type": "code",
   "execution_count": 1,
   "metadata": {},
   "outputs": [],
   "source": [
    "import numpy as np \n",
    "import matplotlib.pyplot as plt\n",
    "import pandas as pd\n",
    "from sklearn.model_selection import train_test_split\n",
    "from sklearn.linear_model import SGDRegressor\n",
    "from sklearn.pipeline import make_pipeline\n",
    "from sklearn.preprocessing import StandardScaler\n",
    "from sklearn.metrics import mean_squared_error\n",
    "from pycaret.regression import *"
   ]
  },
  {
   "cell_type": "code",
   "execution_count": 2,
   "metadata": {},
   "outputs": [],
   "source": [
    "df = pd.read_csv(\"garments_worker_productivity.csv\", header = 0) # read in data\n",
    "df = pd.get_dummies(df, columns=[\"quarter\",\"department\",\"day\",\"team\"], drop_first=True) # create dummy variables for categorical data\n",
    "df = df.dropna() # drop rows with NaN values\n",
    "df = df.drop('date', axis=1) # drop dates"
   ]
  },
  {
   "cell_type": "code",
   "execution_count": 3,
   "metadata": {},
   "outputs": [],
   "source": [
    "X_train, X_test = train_test_split(df, test_size = .2, random_state = 42)"
   ]
  },
  {
   "cell_type": "code",
   "execution_count": 4,
   "metadata": {},
   "outputs": [
    {
     "data": {
      "text/html": [
       "<style type=\"text/css\">\n",
       "#T_5e971_row42_col1 {\n",
       "  background-color: lightgreen;\n",
       "}\n",
       "</style>\n",
       "<table id=\"T_5e971\">\n",
       "  <thead>\n",
       "    <tr>\n",
       "      <th class=\"blank level0\" >&nbsp;</th>\n",
       "      <th id=\"T_5e971_level0_col0\" class=\"col_heading level0 col0\" >Description</th>\n",
       "      <th id=\"T_5e971_level0_col1\" class=\"col_heading level0 col1\" >Value</th>\n",
       "    </tr>\n",
       "  </thead>\n",
       "  <tbody>\n",
       "    <tr>\n",
       "      <th id=\"T_5e971_level0_row0\" class=\"row_heading level0 row0\" >0</th>\n",
       "      <td id=\"T_5e971_row0_col0\" class=\"data row0 col0\" >session_id</td>\n",
       "      <td id=\"T_5e971_row0_col1\" class=\"data row0 col1\" >123</td>\n",
       "    </tr>\n",
       "    <tr>\n",
       "      <th id=\"T_5e971_level0_row1\" class=\"row_heading level0 row1\" >1</th>\n",
       "      <td id=\"T_5e971_row1_col0\" class=\"data row1 col0\" >Target</td>\n",
       "      <td id=\"T_5e971_row1_col1\" class=\"data row1 col1\" >actual_productivity</td>\n",
       "    </tr>\n",
       "    <tr>\n",
       "      <th id=\"T_5e971_level0_row2\" class=\"row_heading level0 row2\" >2</th>\n",
       "      <td id=\"T_5e971_row2_col0\" class=\"data row2 col0\" >Original Data</td>\n",
       "      <td id=\"T_5e971_row2_col1\" class=\"data row2 col1\" >(552, 32)</td>\n",
       "    </tr>\n",
       "    <tr>\n",
       "      <th id=\"T_5e971_level0_row3\" class=\"row_heading level0 row3\" >3</th>\n",
       "      <td id=\"T_5e971_row3_col0\" class=\"data row3 col0\" >Missing Values</td>\n",
       "      <td id=\"T_5e971_row3_col1\" class=\"data row3 col1\" >False</td>\n",
       "    </tr>\n",
       "    <tr>\n",
       "      <th id=\"T_5e971_level0_row4\" class=\"row_heading level0 row4\" >4</th>\n",
       "      <td id=\"T_5e971_row4_col0\" class=\"data row4 col0\" >Numeric Features</td>\n",
       "      <td id=\"T_5e971_row4_col1\" class=\"data row4 col1\" >30</td>\n",
       "    </tr>\n",
       "    <tr>\n",
       "      <th id=\"T_5e971_level0_row5\" class=\"row_heading level0 row5\" >5</th>\n",
       "      <td id=\"T_5e971_row5_col0\" class=\"data row5 col0\" >Categorical Features</td>\n",
       "      <td id=\"T_5e971_row5_col1\" class=\"data row5 col1\" >1</td>\n",
       "    </tr>\n",
       "    <tr>\n",
       "      <th id=\"T_5e971_level0_row6\" class=\"row_heading level0 row6\" >6</th>\n",
       "      <td id=\"T_5e971_row6_col0\" class=\"data row6 col0\" >Ordinal Features</td>\n",
       "      <td id=\"T_5e971_row6_col1\" class=\"data row6 col1\" >False</td>\n",
       "    </tr>\n",
       "    <tr>\n",
       "      <th id=\"T_5e971_level0_row7\" class=\"row_heading level0 row7\" >7</th>\n",
       "      <td id=\"T_5e971_row7_col0\" class=\"data row7 col0\" >High Cardinality Features</td>\n",
       "      <td id=\"T_5e971_row7_col1\" class=\"data row7 col1\" >False</td>\n",
       "    </tr>\n",
       "    <tr>\n",
       "      <th id=\"T_5e971_level0_row8\" class=\"row_heading level0 row8\" >8</th>\n",
       "      <td id=\"T_5e971_row8_col0\" class=\"data row8 col0\" >High Cardinality Method</td>\n",
       "      <td id=\"T_5e971_row8_col1\" class=\"data row8 col1\" >None</td>\n",
       "    </tr>\n",
       "    <tr>\n",
       "      <th id=\"T_5e971_level0_row9\" class=\"row_heading level0 row9\" >9</th>\n",
       "      <td id=\"T_5e971_row9_col0\" class=\"data row9 col0\" >Transformed Train Set</td>\n",
       "      <td id=\"T_5e971_row9_col1\" class=\"data row9 col1\" >(552, 33)</td>\n",
       "    </tr>\n",
       "    <tr>\n",
       "      <th id=\"T_5e971_level0_row10\" class=\"row_heading level0 row10\" >10</th>\n",
       "      <td id=\"T_5e971_row10_col0\" class=\"data row10 col0\" >Transformed Test Set</td>\n",
       "      <td id=\"T_5e971_row10_col1\" class=\"data row10 col1\" >(139, 33)</td>\n",
       "    </tr>\n",
       "    <tr>\n",
       "      <th id=\"T_5e971_level0_row11\" class=\"row_heading level0 row11\" >11</th>\n",
       "      <td id=\"T_5e971_row11_col0\" class=\"data row11 col0\" >Shuffle Train-Test</td>\n",
       "      <td id=\"T_5e971_row11_col1\" class=\"data row11 col1\" >True</td>\n",
       "    </tr>\n",
       "    <tr>\n",
       "      <th id=\"T_5e971_level0_row12\" class=\"row_heading level0 row12\" >12</th>\n",
       "      <td id=\"T_5e971_row12_col0\" class=\"data row12 col0\" >Stratify Train-Test</td>\n",
       "      <td id=\"T_5e971_row12_col1\" class=\"data row12 col1\" >False</td>\n",
       "    </tr>\n",
       "    <tr>\n",
       "      <th id=\"T_5e971_level0_row13\" class=\"row_heading level0 row13\" >13</th>\n",
       "      <td id=\"T_5e971_row13_col0\" class=\"data row13 col0\" >Fold Generator</td>\n",
       "      <td id=\"T_5e971_row13_col1\" class=\"data row13 col1\" >TimeSeriesSplit</td>\n",
       "    </tr>\n",
       "    <tr>\n",
       "      <th id=\"T_5e971_level0_row14\" class=\"row_heading level0 row14\" >14</th>\n",
       "      <td id=\"T_5e971_row14_col0\" class=\"data row14 col0\" >Fold Number</td>\n",
       "      <td id=\"T_5e971_row14_col1\" class=\"data row14 col1\" >3</td>\n",
       "    </tr>\n",
       "    <tr>\n",
       "      <th id=\"T_5e971_level0_row15\" class=\"row_heading level0 row15\" >15</th>\n",
       "      <td id=\"T_5e971_row15_col0\" class=\"data row15 col0\" >CPU Jobs</td>\n",
       "      <td id=\"T_5e971_row15_col1\" class=\"data row15 col1\" >-1</td>\n",
       "    </tr>\n",
       "    <tr>\n",
       "      <th id=\"T_5e971_level0_row16\" class=\"row_heading level0 row16\" >16</th>\n",
       "      <td id=\"T_5e971_row16_col0\" class=\"data row16 col0\" >Use GPU</td>\n",
       "      <td id=\"T_5e971_row16_col1\" class=\"data row16 col1\" >False</td>\n",
       "    </tr>\n",
       "    <tr>\n",
       "      <th id=\"T_5e971_level0_row17\" class=\"row_heading level0 row17\" >17</th>\n",
       "      <td id=\"T_5e971_row17_col0\" class=\"data row17 col0\" >Log Experiment</td>\n",
       "      <td id=\"T_5e971_row17_col1\" class=\"data row17 col1\" >False</td>\n",
       "    </tr>\n",
       "    <tr>\n",
       "      <th id=\"T_5e971_level0_row18\" class=\"row_heading level0 row18\" >18</th>\n",
       "      <td id=\"T_5e971_row18_col0\" class=\"data row18 col0\" >Experiment Name</td>\n",
       "      <td id=\"T_5e971_row18_col1\" class=\"data row18 col1\" >reg-default-name</td>\n",
       "    </tr>\n",
       "    <tr>\n",
       "      <th id=\"T_5e971_level0_row19\" class=\"row_heading level0 row19\" >19</th>\n",
       "      <td id=\"T_5e971_row19_col0\" class=\"data row19 col0\" >USI</td>\n",
       "      <td id=\"T_5e971_row19_col1\" class=\"data row19 col1\" >0ef6</td>\n",
       "    </tr>\n",
       "    <tr>\n",
       "      <th id=\"T_5e971_level0_row20\" class=\"row_heading level0 row20\" >20</th>\n",
       "      <td id=\"T_5e971_row20_col0\" class=\"data row20 col0\" >Imputation Type</td>\n",
       "      <td id=\"T_5e971_row20_col1\" class=\"data row20 col1\" >simple</td>\n",
       "    </tr>\n",
       "    <tr>\n",
       "      <th id=\"T_5e971_level0_row21\" class=\"row_heading level0 row21\" >21</th>\n",
       "      <td id=\"T_5e971_row21_col0\" class=\"data row21 col0\" >Iterative Imputation Iteration</td>\n",
       "      <td id=\"T_5e971_row21_col1\" class=\"data row21 col1\" >None</td>\n",
       "    </tr>\n",
       "    <tr>\n",
       "      <th id=\"T_5e971_level0_row22\" class=\"row_heading level0 row22\" >22</th>\n",
       "      <td id=\"T_5e971_row22_col0\" class=\"data row22 col0\" >Numeric Imputer</td>\n",
       "      <td id=\"T_5e971_row22_col1\" class=\"data row22 col1\" >mean</td>\n",
       "    </tr>\n",
       "    <tr>\n",
       "      <th id=\"T_5e971_level0_row23\" class=\"row_heading level0 row23\" >23</th>\n",
       "      <td id=\"T_5e971_row23_col0\" class=\"data row23 col0\" >Iterative Imputation Numeric Model</td>\n",
       "      <td id=\"T_5e971_row23_col1\" class=\"data row23 col1\" >None</td>\n",
       "    </tr>\n",
       "    <tr>\n",
       "      <th id=\"T_5e971_level0_row24\" class=\"row_heading level0 row24\" >24</th>\n",
       "      <td id=\"T_5e971_row24_col0\" class=\"data row24 col0\" >Categorical Imputer</td>\n",
       "      <td id=\"T_5e971_row24_col1\" class=\"data row24 col1\" >constant</td>\n",
       "    </tr>\n",
       "    <tr>\n",
       "      <th id=\"T_5e971_level0_row25\" class=\"row_heading level0 row25\" >25</th>\n",
       "      <td id=\"T_5e971_row25_col0\" class=\"data row25 col0\" >Iterative Imputation Categorical Model</td>\n",
       "      <td id=\"T_5e971_row25_col1\" class=\"data row25 col1\" >None</td>\n",
       "    </tr>\n",
       "    <tr>\n",
       "      <th id=\"T_5e971_level0_row26\" class=\"row_heading level0 row26\" >26</th>\n",
       "      <td id=\"T_5e971_row26_col0\" class=\"data row26 col0\" >Unknown Categoricals Handling</td>\n",
       "      <td id=\"T_5e971_row26_col1\" class=\"data row26 col1\" >least_frequent</td>\n",
       "    </tr>\n",
       "    <tr>\n",
       "      <th id=\"T_5e971_level0_row27\" class=\"row_heading level0 row27\" >27</th>\n",
       "      <td id=\"T_5e971_row27_col0\" class=\"data row27 col0\" >Normalize</td>\n",
       "      <td id=\"T_5e971_row27_col1\" class=\"data row27 col1\" >False</td>\n",
       "    </tr>\n",
       "    <tr>\n",
       "      <th id=\"T_5e971_level0_row28\" class=\"row_heading level0 row28\" >28</th>\n",
       "      <td id=\"T_5e971_row28_col0\" class=\"data row28 col0\" >Normalize Method</td>\n",
       "      <td id=\"T_5e971_row28_col1\" class=\"data row28 col1\" >None</td>\n",
       "    </tr>\n",
       "    <tr>\n",
       "      <th id=\"T_5e971_level0_row29\" class=\"row_heading level0 row29\" >29</th>\n",
       "      <td id=\"T_5e971_row29_col0\" class=\"data row29 col0\" >Transformation</td>\n",
       "      <td id=\"T_5e971_row29_col1\" class=\"data row29 col1\" >False</td>\n",
       "    </tr>\n",
       "    <tr>\n",
       "      <th id=\"T_5e971_level0_row30\" class=\"row_heading level0 row30\" >30</th>\n",
       "      <td id=\"T_5e971_row30_col0\" class=\"data row30 col0\" >Transformation Method</td>\n",
       "      <td id=\"T_5e971_row30_col1\" class=\"data row30 col1\" >None</td>\n",
       "    </tr>\n",
       "    <tr>\n",
       "      <th id=\"T_5e971_level0_row31\" class=\"row_heading level0 row31\" >31</th>\n",
       "      <td id=\"T_5e971_row31_col0\" class=\"data row31 col0\" >PCA</td>\n",
       "      <td id=\"T_5e971_row31_col1\" class=\"data row31 col1\" >False</td>\n",
       "    </tr>\n",
       "    <tr>\n",
       "      <th id=\"T_5e971_level0_row32\" class=\"row_heading level0 row32\" >32</th>\n",
       "      <td id=\"T_5e971_row32_col0\" class=\"data row32 col0\" >PCA Method</td>\n",
       "      <td id=\"T_5e971_row32_col1\" class=\"data row32 col1\" >None</td>\n",
       "    </tr>\n",
       "    <tr>\n",
       "      <th id=\"T_5e971_level0_row33\" class=\"row_heading level0 row33\" >33</th>\n",
       "      <td id=\"T_5e971_row33_col0\" class=\"data row33 col0\" >PCA Components</td>\n",
       "      <td id=\"T_5e971_row33_col1\" class=\"data row33 col1\" >None</td>\n",
       "    </tr>\n",
       "    <tr>\n",
       "      <th id=\"T_5e971_level0_row34\" class=\"row_heading level0 row34\" >34</th>\n",
       "      <td id=\"T_5e971_row34_col0\" class=\"data row34 col0\" >Ignore Low Variance</td>\n",
       "      <td id=\"T_5e971_row34_col1\" class=\"data row34 col1\" >False</td>\n",
       "    </tr>\n",
       "    <tr>\n",
       "      <th id=\"T_5e971_level0_row35\" class=\"row_heading level0 row35\" >35</th>\n",
       "      <td id=\"T_5e971_row35_col0\" class=\"data row35 col0\" >Combine Rare Levels</td>\n",
       "      <td id=\"T_5e971_row35_col1\" class=\"data row35 col1\" >False</td>\n",
       "    </tr>\n",
       "    <tr>\n",
       "      <th id=\"T_5e971_level0_row36\" class=\"row_heading level0 row36\" >36</th>\n",
       "      <td id=\"T_5e971_row36_col0\" class=\"data row36 col0\" >Rare Level Threshold</td>\n",
       "      <td id=\"T_5e971_row36_col1\" class=\"data row36 col1\" >None</td>\n",
       "    </tr>\n",
       "    <tr>\n",
       "      <th id=\"T_5e971_level0_row37\" class=\"row_heading level0 row37\" >37</th>\n",
       "      <td id=\"T_5e971_row37_col0\" class=\"data row37 col0\" >Numeric Binning</td>\n",
       "      <td id=\"T_5e971_row37_col1\" class=\"data row37 col1\" >False</td>\n",
       "    </tr>\n",
       "    <tr>\n",
       "      <th id=\"T_5e971_level0_row38\" class=\"row_heading level0 row38\" >38</th>\n",
       "      <td id=\"T_5e971_row38_col0\" class=\"data row38 col0\" >Remove Outliers</td>\n",
       "      <td id=\"T_5e971_row38_col1\" class=\"data row38 col1\" >False</td>\n",
       "    </tr>\n",
       "    <tr>\n",
       "      <th id=\"T_5e971_level0_row39\" class=\"row_heading level0 row39\" >39</th>\n",
       "      <td id=\"T_5e971_row39_col0\" class=\"data row39 col0\" >Outliers Threshold</td>\n",
       "      <td id=\"T_5e971_row39_col1\" class=\"data row39 col1\" >None</td>\n",
       "    </tr>\n",
       "    <tr>\n",
       "      <th id=\"T_5e971_level0_row40\" class=\"row_heading level0 row40\" >40</th>\n",
       "      <td id=\"T_5e971_row40_col0\" class=\"data row40 col0\" >Remove Multicollinearity</td>\n",
       "      <td id=\"T_5e971_row40_col1\" class=\"data row40 col1\" >False</td>\n",
       "    </tr>\n",
       "    <tr>\n",
       "      <th id=\"T_5e971_level0_row41\" class=\"row_heading level0 row41\" >41</th>\n",
       "      <td id=\"T_5e971_row41_col0\" class=\"data row41 col0\" >Multicollinearity Threshold</td>\n",
       "      <td id=\"T_5e971_row41_col1\" class=\"data row41 col1\" >None</td>\n",
       "    </tr>\n",
       "    <tr>\n",
       "      <th id=\"T_5e971_level0_row42\" class=\"row_heading level0 row42\" >42</th>\n",
       "      <td id=\"T_5e971_row42_col0\" class=\"data row42 col0\" >Remove Perfect Collinearity</td>\n",
       "      <td id=\"T_5e971_row42_col1\" class=\"data row42 col1\" >True</td>\n",
       "    </tr>\n",
       "    <tr>\n",
       "      <th id=\"T_5e971_level0_row43\" class=\"row_heading level0 row43\" >43</th>\n",
       "      <td id=\"T_5e971_row43_col0\" class=\"data row43 col0\" >Clustering</td>\n",
       "      <td id=\"T_5e971_row43_col1\" class=\"data row43 col1\" >False</td>\n",
       "    </tr>\n",
       "    <tr>\n",
       "      <th id=\"T_5e971_level0_row44\" class=\"row_heading level0 row44\" >44</th>\n",
       "      <td id=\"T_5e971_row44_col0\" class=\"data row44 col0\" >Clustering Iteration</td>\n",
       "      <td id=\"T_5e971_row44_col1\" class=\"data row44 col1\" >None</td>\n",
       "    </tr>\n",
       "    <tr>\n",
       "      <th id=\"T_5e971_level0_row45\" class=\"row_heading level0 row45\" >45</th>\n",
       "      <td id=\"T_5e971_row45_col0\" class=\"data row45 col0\" >Polynomial Features</td>\n",
       "      <td id=\"T_5e971_row45_col1\" class=\"data row45 col1\" >False</td>\n",
       "    </tr>\n",
       "    <tr>\n",
       "      <th id=\"T_5e971_level0_row46\" class=\"row_heading level0 row46\" >46</th>\n",
       "      <td id=\"T_5e971_row46_col0\" class=\"data row46 col0\" >Polynomial Degree</td>\n",
       "      <td id=\"T_5e971_row46_col1\" class=\"data row46 col1\" >None</td>\n",
       "    </tr>\n",
       "    <tr>\n",
       "      <th id=\"T_5e971_level0_row47\" class=\"row_heading level0 row47\" >47</th>\n",
       "      <td id=\"T_5e971_row47_col0\" class=\"data row47 col0\" >Trignometry Features</td>\n",
       "      <td id=\"T_5e971_row47_col1\" class=\"data row47 col1\" >False</td>\n",
       "    </tr>\n",
       "    <tr>\n",
       "      <th id=\"T_5e971_level0_row48\" class=\"row_heading level0 row48\" >48</th>\n",
       "      <td id=\"T_5e971_row48_col0\" class=\"data row48 col0\" >Polynomial Threshold</td>\n",
       "      <td id=\"T_5e971_row48_col1\" class=\"data row48 col1\" >None</td>\n",
       "    </tr>\n",
       "    <tr>\n",
       "      <th id=\"T_5e971_level0_row49\" class=\"row_heading level0 row49\" >49</th>\n",
       "      <td id=\"T_5e971_row49_col0\" class=\"data row49 col0\" >Group Features</td>\n",
       "      <td id=\"T_5e971_row49_col1\" class=\"data row49 col1\" >False</td>\n",
       "    </tr>\n",
       "    <tr>\n",
       "      <th id=\"T_5e971_level0_row50\" class=\"row_heading level0 row50\" >50</th>\n",
       "      <td id=\"T_5e971_row50_col0\" class=\"data row50 col0\" >Feature Selection</td>\n",
       "      <td id=\"T_5e971_row50_col1\" class=\"data row50 col1\" >False</td>\n",
       "    </tr>\n",
       "    <tr>\n",
       "      <th id=\"T_5e971_level0_row51\" class=\"row_heading level0 row51\" >51</th>\n",
       "      <td id=\"T_5e971_row51_col0\" class=\"data row51 col0\" >Feature Selection Method</td>\n",
       "      <td id=\"T_5e971_row51_col1\" class=\"data row51 col1\" >classic</td>\n",
       "    </tr>\n",
       "    <tr>\n",
       "      <th id=\"T_5e971_level0_row52\" class=\"row_heading level0 row52\" >52</th>\n",
       "      <td id=\"T_5e971_row52_col0\" class=\"data row52 col0\" >Features Selection Threshold</td>\n",
       "      <td id=\"T_5e971_row52_col1\" class=\"data row52 col1\" >None</td>\n",
       "    </tr>\n",
       "    <tr>\n",
       "      <th id=\"T_5e971_level0_row53\" class=\"row_heading level0 row53\" >53</th>\n",
       "      <td id=\"T_5e971_row53_col0\" class=\"data row53 col0\" >Feature Interaction</td>\n",
       "      <td id=\"T_5e971_row53_col1\" class=\"data row53 col1\" >False</td>\n",
       "    </tr>\n",
       "    <tr>\n",
       "      <th id=\"T_5e971_level0_row54\" class=\"row_heading level0 row54\" >54</th>\n",
       "      <td id=\"T_5e971_row54_col0\" class=\"data row54 col0\" >Feature Ratio</td>\n",
       "      <td id=\"T_5e971_row54_col1\" class=\"data row54 col1\" >False</td>\n",
       "    </tr>\n",
       "    <tr>\n",
       "      <th id=\"T_5e971_level0_row55\" class=\"row_heading level0 row55\" >55</th>\n",
       "      <td id=\"T_5e971_row55_col0\" class=\"data row55 col0\" >Interaction Threshold</td>\n",
       "      <td id=\"T_5e971_row55_col1\" class=\"data row55 col1\" >None</td>\n",
       "    </tr>\n",
       "    <tr>\n",
       "      <th id=\"T_5e971_level0_row56\" class=\"row_heading level0 row56\" >56</th>\n",
       "      <td id=\"T_5e971_row56_col0\" class=\"data row56 col0\" >Transform Target</td>\n",
       "      <td id=\"T_5e971_row56_col1\" class=\"data row56 col1\" >False</td>\n",
       "    </tr>\n",
       "    <tr>\n",
       "      <th id=\"T_5e971_level0_row57\" class=\"row_heading level0 row57\" >57</th>\n",
       "      <td id=\"T_5e971_row57_col0\" class=\"data row57 col0\" >Transform Target Method</td>\n",
       "      <td id=\"T_5e971_row57_col1\" class=\"data row57 col1\" >box-cox</td>\n",
       "    </tr>\n",
       "  </tbody>\n",
       "</table>\n"
      ],
      "text/plain": [
       "<pandas.io.formats.style.Styler at 0x2688d115f10>"
      ]
     },
     "metadata": {},
     "output_type": "display_data"
    }
   ],
   "source": [
    "s = setup(data = X_train, test_data = X_test, target = 'actual_productivity', numeric_features = ['department_sweing', 'team_11', 'idle_men', 'smv', 'incentive', 'idle_time', 'over_time'],  fold_strategy = 'timeseries', fold = 3, session_id = 123)"
   ]
  },
  {
   "cell_type": "code",
   "execution_count": 5,
   "metadata": {},
   "outputs": [
    {
     "data": {
      "text/html": [
       "<style type=\"text/css\">\n",
       "#T_f37c7 th {\n",
       "  text-align: left;\n",
       "}\n",
       "#T_f37c7_row0_col0, #T_f37c7_row0_col2, #T_f37c7_row0_col3, #T_f37c7_row0_col4, #T_f37c7_row0_col5, #T_f37c7_row1_col0, #T_f37c7_row1_col1, #T_f37c7_row1_col3, #T_f37c7_row1_col4, #T_f37c7_row1_col5, #T_f37c7_row1_col6, #T_f37c7_row2_col0, #T_f37c7_row2_col1, #T_f37c7_row2_col6, #T_f37c7_row3_col0, #T_f37c7_row3_col1, #T_f37c7_row3_col2, #T_f37c7_row3_col3, #T_f37c7_row3_col4, #T_f37c7_row3_col5, #T_f37c7_row3_col6, #T_f37c7_row4_col0, #T_f37c7_row4_col1, #T_f37c7_row4_col2, #T_f37c7_row4_col3, #T_f37c7_row4_col4, #T_f37c7_row4_col5, #T_f37c7_row4_col6, #T_f37c7_row5_col0, #T_f37c7_row5_col1, #T_f37c7_row5_col2, #T_f37c7_row5_col3, #T_f37c7_row5_col4, #T_f37c7_row5_col5, #T_f37c7_row5_col6, #T_f37c7_row6_col0, #T_f37c7_row6_col1, #T_f37c7_row6_col2, #T_f37c7_row6_col3, #T_f37c7_row6_col4, #T_f37c7_row6_col5, #T_f37c7_row6_col6, #T_f37c7_row7_col0, #T_f37c7_row7_col1, #T_f37c7_row7_col2, #T_f37c7_row7_col3, #T_f37c7_row7_col4, #T_f37c7_row7_col5, #T_f37c7_row7_col6, #T_f37c7_row8_col0, #T_f37c7_row8_col1, #T_f37c7_row8_col2, #T_f37c7_row8_col3, #T_f37c7_row8_col4, #T_f37c7_row8_col5, #T_f37c7_row8_col6, #T_f37c7_row9_col0, #T_f37c7_row9_col1, #T_f37c7_row9_col2, #T_f37c7_row9_col3, #T_f37c7_row9_col4, #T_f37c7_row9_col5, #T_f37c7_row9_col6, #T_f37c7_row10_col0, #T_f37c7_row10_col1, #T_f37c7_row10_col2, #T_f37c7_row10_col3, #T_f37c7_row10_col4, #T_f37c7_row10_col5, #T_f37c7_row10_col6, #T_f37c7_row11_col0, #T_f37c7_row11_col1, #T_f37c7_row11_col2, #T_f37c7_row11_col3, #T_f37c7_row11_col4, #T_f37c7_row11_col5, #T_f37c7_row11_col6, #T_f37c7_row12_col0, #T_f37c7_row12_col1, #T_f37c7_row12_col2, #T_f37c7_row12_col3, #T_f37c7_row12_col4, #T_f37c7_row12_col5, #T_f37c7_row12_col6, #T_f37c7_row13_col0, #T_f37c7_row13_col1, #T_f37c7_row13_col2, #T_f37c7_row13_col3, #T_f37c7_row13_col4, #T_f37c7_row13_col5, #T_f37c7_row13_col6, #T_f37c7_row14_col0, #T_f37c7_row14_col1, #T_f37c7_row14_col2, #T_f37c7_row14_col3, #T_f37c7_row14_col4, #T_f37c7_row14_col5, #T_f37c7_row14_col6, #T_f37c7_row15_col0, #T_f37c7_row15_col1, #T_f37c7_row15_col2, #T_f37c7_row15_col3, #T_f37c7_row15_col4, #T_f37c7_row15_col5, #T_f37c7_row15_col6, #T_f37c7_row16_col0, #T_f37c7_row16_col1, #T_f37c7_row16_col2, #T_f37c7_row16_col3, #T_f37c7_row16_col4, #T_f37c7_row16_col5, #T_f37c7_row16_col6, #T_f37c7_row17_col0, #T_f37c7_row17_col1, #T_f37c7_row17_col2, #T_f37c7_row17_col3, #T_f37c7_row17_col4, #T_f37c7_row17_col5, #T_f37c7_row17_col6 {\n",
       "  text-align: left;\n",
       "}\n",
       "#T_f37c7_row0_col1, #T_f37c7_row0_col6, #T_f37c7_row1_col2, #T_f37c7_row2_col2, #T_f37c7_row2_col3, #T_f37c7_row2_col4, #T_f37c7_row2_col5 {\n",
       "  text-align: left;\n",
       "  background-color: yellow;\n",
       "}\n",
       "#T_f37c7_row0_col7, #T_f37c7_row1_col7, #T_f37c7_row2_col7, #T_f37c7_row3_col7, #T_f37c7_row5_col7, #T_f37c7_row6_col7, #T_f37c7_row7_col7, #T_f37c7_row8_col7, #T_f37c7_row9_col7, #T_f37c7_row10_col7, #T_f37c7_row11_col7, #T_f37c7_row12_col7, #T_f37c7_row13_col7, #T_f37c7_row14_col7, #T_f37c7_row17_col7 {\n",
       "  text-align: left;\n",
       "  background-color: lightgrey;\n",
       "}\n",
       "#T_f37c7_row4_col7, #T_f37c7_row15_col7, #T_f37c7_row16_col7 {\n",
       "  text-align: left;\n",
       "  background-color: yellow;\n",
       "  background-color: lightgrey;\n",
       "}\n",
       "</style>\n",
       "<table id=\"T_f37c7\">\n",
       "  <thead>\n",
       "    <tr>\n",
       "      <th class=\"blank level0\" >&nbsp;</th>\n",
       "      <th id=\"T_f37c7_level0_col0\" class=\"col_heading level0 col0\" >Model</th>\n",
       "      <th id=\"T_f37c7_level0_col1\" class=\"col_heading level0 col1\" >MAE</th>\n",
       "      <th id=\"T_f37c7_level0_col2\" class=\"col_heading level0 col2\" >MSE</th>\n",
       "      <th id=\"T_f37c7_level0_col3\" class=\"col_heading level0 col3\" >RMSE</th>\n",
       "      <th id=\"T_f37c7_level0_col4\" class=\"col_heading level0 col4\" >R2</th>\n",
       "      <th id=\"T_f37c7_level0_col5\" class=\"col_heading level0 col5\" >RMSLE</th>\n",
       "      <th id=\"T_f37c7_level0_col6\" class=\"col_heading level0 col6\" >MAPE</th>\n",
       "      <th id=\"T_f37c7_level0_col7\" class=\"col_heading level0 col7\" >TT (Sec)</th>\n",
       "    </tr>\n",
       "  </thead>\n",
       "  <tbody>\n",
       "    <tr>\n",
       "      <th id=\"T_f37c7_level0_row0\" class=\"row_heading level0 row0\" >et</th>\n",
       "      <td id=\"T_f37c7_row0_col0\" class=\"data row0 col0\" >Extra Trees Regressor</td>\n",
       "      <td id=\"T_f37c7_row0_col1\" class=\"data row0 col1\" >0.0381</td>\n",
       "      <td id=\"T_f37c7_row0_col2\" class=\"data row0 col2\" >0.0054</td>\n",
       "      <td id=\"T_f37c7_row0_col3\" class=\"data row0 col3\" >0.0725</td>\n",
       "      <td id=\"T_f37c7_row0_col4\" class=\"data row0 col4\" >0.7607</td>\n",
       "      <td id=\"T_f37c7_row0_col5\" class=\"data row0 col5\" >0.0465</td>\n",
       "      <td id=\"T_f37c7_row0_col6\" class=\"data row0 col6\" >0.0684</td>\n",
       "      <td id=\"T_f37c7_row0_col7\" class=\"data row0 col7\" >0.0433</td>\n",
       "    </tr>\n",
       "    <tr>\n",
       "      <th id=\"T_f37c7_level0_row1\" class=\"row_heading level0 row1\" >rf</th>\n",
       "      <td id=\"T_f37c7_row1_col0\" class=\"data row1 col0\" >Random Forest Regressor</td>\n",
       "      <td id=\"T_f37c7_row1_col1\" class=\"data row1 col1\" >0.0422</td>\n",
       "      <td id=\"T_f37c7_row1_col2\" class=\"data row1 col2\" >0.0052</td>\n",
       "      <td id=\"T_f37c7_row1_col3\" class=\"data row1 col3\" >0.0719</td>\n",
       "      <td id=\"T_f37c7_row1_col4\" class=\"data row1 col4\" >0.7671</td>\n",
       "      <td id=\"T_f37c7_row1_col5\" class=\"data row1 col5\" >0.0459</td>\n",
       "      <td id=\"T_f37c7_row1_col6\" class=\"data row1 col6\" >0.0756</td>\n",
       "      <td id=\"T_f37c7_row1_col7\" class=\"data row1 col7\" >0.0500</td>\n",
       "    </tr>\n",
       "    <tr>\n",
       "      <th id=\"T_f37c7_level0_row2\" class=\"row_heading level0 row2\" >gbr</th>\n",
       "      <td id=\"T_f37c7_row2_col0\" class=\"data row2 col0\" >Gradient Boosting Regressor</td>\n",
       "      <td id=\"T_f37c7_row2_col1\" class=\"data row2 col1\" >0.0438</td>\n",
       "      <td id=\"T_f37c7_row2_col2\" class=\"data row2 col2\" >0.0052</td>\n",
       "      <td id=\"T_f37c7_row2_col3\" class=\"data row2 col3\" >0.0717</td>\n",
       "      <td id=\"T_f37c7_row2_col4\" class=\"data row2 col4\" >0.7685</td>\n",
       "      <td id=\"T_f37c7_row2_col5\" class=\"data row2 col5\" >0.0458</td>\n",
       "      <td id=\"T_f37c7_row2_col6\" class=\"data row2 col6\" >0.0760</td>\n",
       "      <td id=\"T_f37c7_row2_col7\" class=\"data row2 col7\" >0.0200</td>\n",
       "    </tr>\n",
       "    <tr>\n",
       "      <th id=\"T_f37c7_level0_row3\" class=\"row_heading level0 row3\" >omp</th>\n",
       "      <td id=\"T_f37c7_row3_col0\" class=\"data row3 col0\" >Orthogonal Matching Pursuit</td>\n",
       "      <td id=\"T_f37c7_row3_col1\" class=\"data row3 col1\" >0.0495</td>\n",
       "      <td id=\"T_f37c7_row3_col2\" class=\"data row3 col2\" >0.0054</td>\n",
       "      <td id=\"T_f37c7_row3_col3\" class=\"data row3 col3\" >0.0735</td>\n",
       "      <td id=\"T_f37c7_row3_col4\" class=\"data row3 col4\" >0.7579</td>\n",
       "      <td id=\"T_f37c7_row3_col5\" class=\"data row3 col5\" >0.0465</td>\n",
       "      <td id=\"T_f37c7_row3_col6\" class=\"data row3 col6\" >0.0843</td>\n",
       "      <td id=\"T_f37c7_row3_col7\" class=\"data row3 col7\" >0.5067</td>\n",
       "    </tr>\n",
       "    <tr>\n",
       "      <th id=\"T_f37c7_level0_row4\" class=\"row_heading level0 row4\" >dt</th>\n",
       "      <td id=\"T_f37c7_row4_col0\" class=\"data row4 col0\" >Decision Tree Regressor</td>\n",
       "      <td id=\"T_f37c7_row4_col1\" class=\"data row4 col1\" >0.0504</td>\n",
       "      <td id=\"T_f37c7_row4_col2\" class=\"data row4 col2\" >0.0093</td>\n",
       "      <td id=\"T_f37c7_row4_col3\" class=\"data row4 col3\" >0.0960</td>\n",
       "      <td id=\"T_f37c7_row4_col4\" class=\"data row4 col4\" >0.5845</td>\n",
       "      <td id=\"T_f37c7_row4_col5\" class=\"data row4 col5\" >0.0628</td>\n",
       "      <td id=\"T_f37c7_row4_col6\" class=\"data row4 col6\" >0.0924</td>\n",
       "      <td id=\"T_f37c7_row4_col7\" class=\"data row4 col7\" >0.0033</td>\n",
       "    </tr>\n",
       "    <tr>\n",
       "      <th id=\"T_f37c7_level0_row5\" class=\"row_heading level0 row5\" >lightgbm</th>\n",
       "      <td id=\"T_f37c7_row5_col0\" class=\"data row5 col0\" >Light Gradient Boosting Machine</td>\n",
       "      <td id=\"T_f37c7_row5_col1\" class=\"data row5 col1\" >0.0525</td>\n",
       "      <td id=\"T_f37c7_row5_col2\" class=\"data row5 col2\" >0.0064</td>\n",
       "      <td id=\"T_f37c7_row5_col3\" class=\"data row5 col3\" >0.0799</td>\n",
       "      <td id=\"T_f37c7_row5_col4\" class=\"data row5 col4\" >0.7127</td>\n",
       "      <td id=\"T_f37c7_row5_col5\" class=\"data row5 col5\" >0.0507</td>\n",
       "      <td id=\"T_f37c7_row5_col6\" class=\"data row5 col6\" >0.0902</td>\n",
       "      <td id=\"T_f37c7_row5_col7\" class=\"data row5 col7\" >0.0133</td>\n",
       "    </tr>\n",
       "    <tr>\n",
       "      <th id=\"T_f37c7_level0_row6\" class=\"row_heading level0 row6\" >lr</th>\n",
       "      <td id=\"T_f37c7_row6_col0\" class=\"data row6 col0\" >Linear Regression</td>\n",
       "      <td id=\"T_f37c7_row6_col1\" class=\"data row6 col1\" >0.0546</td>\n",
       "      <td id=\"T_f37c7_row6_col2\" class=\"data row6 col2\" >0.0066</td>\n",
       "      <td id=\"T_f37c7_row6_col3\" class=\"data row6 col3\" >0.0799</td>\n",
       "      <td id=\"T_f37c7_row6_col4\" class=\"data row6 col4\" >0.7061</td>\n",
       "      <td id=\"T_f37c7_row6_col5\" class=\"data row6 col5\" >0.0497</td>\n",
       "      <td id=\"T_f37c7_row6_col6\" class=\"data row6 col6\" >0.0903</td>\n",
       "      <td id=\"T_f37c7_row6_col7\" class=\"data row6 col7\" >0.6367</td>\n",
       "    </tr>\n",
       "    <tr>\n",
       "      <th id=\"T_f37c7_level0_row7\" class=\"row_heading level0 row7\" >ridge</th>\n",
       "      <td id=\"T_f37c7_row7_col0\" class=\"data row7 col0\" >Ridge Regression</td>\n",
       "      <td id=\"T_f37c7_row7_col1\" class=\"data row7 col1\" >0.0562</td>\n",
       "      <td id=\"T_f37c7_row7_col2\" class=\"data row7 col2\" >0.0066</td>\n",
       "      <td id=\"T_f37c7_row7_col3\" class=\"data row7 col3\" >0.0806</td>\n",
       "      <td id=\"T_f37c7_row7_col4\" class=\"data row7 col4\" >0.7043</td>\n",
       "      <td id=\"T_f37c7_row7_col5\" class=\"data row7 col5\" >0.0510</td>\n",
       "      <td id=\"T_f37c7_row7_col6\" class=\"data row7 col6\" >0.0947</td>\n",
       "      <td id=\"T_f37c7_row7_col7\" class=\"data row7 col7\" >0.5067</td>\n",
       "    </tr>\n",
       "    <tr>\n",
       "      <th id=\"T_f37c7_level0_row8\" class=\"row_heading level0 row8\" >br</th>\n",
       "      <td id=\"T_f37c7_row8_col0\" class=\"data row8 col0\" >Bayesian Ridge</td>\n",
       "      <td id=\"T_f37c7_row8_col1\" class=\"data row8 col1\" >0.0580</td>\n",
       "      <td id=\"T_f37c7_row8_col2\" class=\"data row8 col2\" >0.0073</td>\n",
       "      <td id=\"T_f37c7_row8_col3\" class=\"data row8 col3\" >0.0843</td>\n",
       "      <td id=\"T_f37c7_row8_col4\" class=\"data row8 col4\" >0.6721</td>\n",
       "      <td id=\"T_f37c7_row8_col5\" class=\"data row8 col5\" >0.0531</td>\n",
       "      <td id=\"T_f37c7_row8_col6\" class=\"data row8 col6\" >0.0973</td>\n",
       "      <td id=\"T_f37c7_row8_col7\" class=\"data row8 col7\" >0.4967</td>\n",
       "    </tr>\n",
       "    <tr>\n",
       "      <th id=\"T_f37c7_level0_row9\" class=\"row_heading level0 row9\" >ada</th>\n",
       "      <td id=\"T_f37c7_row9_col0\" class=\"data row9 col0\" >AdaBoost Regressor</td>\n",
       "      <td id=\"T_f37c7_row9_col1\" class=\"data row9 col1\" >0.0605</td>\n",
       "      <td id=\"T_f37c7_row9_col2\" class=\"data row9 col2\" >0.0072</td>\n",
       "      <td id=\"T_f37c7_row9_col3\" class=\"data row9 col3\" >0.0849</td>\n",
       "      <td id=\"T_f37c7_row9_col4\" class=\"data row9 col4\" >0.6771</td>\n",
       "      <td id=\"T_f37c7_row9_col5\" class=\"data row9 col5\" >0.0536</td>\n",
       "      <td id=\"T_f37c7_row9_col6\" class=\"data row9 col6\" >0.1001</td>\n",
       "      <td id=\"T_f37c7_row9_col7\" class=\"data row9 col7\" >0.0200</td>\n",
       "    </tr>\n",
       "    <tr>\n",
       "      <th id=\"T_f37c7_level0_row10\" class=\"row_heading level0 row10\" >en</th>\n",
       "      <td id=\"T_f37c7_row10_col0\" class=\"data row10 col0\" >Elastic Net</td>\n",
       "      <td id=\"T_f37c7_row10_col1\" class=\"data row10 col1\" >0.0653</td>\n",
       "      <td id=\"T_f37c7_row10_col2\" class=\"data row10 col2\" >0.0087</td>\n",
       "      <td id=\"T_f37c7_row10_col3\" class=\"data row10 col3\" >0.0931</td>\n",
       "      <td id=\"T_f37c7_row10_col4\" class=\"data row10 col4\" >0.6132</td>\n",
       "      <td id=\"T_f37c7_row10_col5\" class=\"data row10 col5\" >0.0591</td>\n",
       "      <td id=\"T_f37c7_row10_col6\" class=\"data row10 col6\" >0.1145</td>\n",
       "      <td id=\"T_f37c7_row10_col7\" class=\"data row10 col7\" >0.5067</td>\n",
       "    </tr>\n",
       "    <tr>\n",
       "      <th id=\"T_f37c7_level0_row11\" class=\"row_heading level0 row11\" >lasso</th>\n",
       "      <td id=\"T_f37c7_row11_col0\" class=\"data row11 col0\" >Lasso Regression</td>\n",
       "      <td id=\"T_f37c7_row11_col1\" class=\"data row11 col1\" >0.0697</td>\n",
       "      <td id=\"T_f37c7_row11_col2\" class=\"data row11 col2\" >0.0092</td>\n",
       "      <td id=\"T_f37c7_row11_col3\" class=\"data row11 col3\" >0.0958</td>\n",
       "      <td id=\"T_f37c7_row11_col4\" class=\"data row11 col4\" >0.5909</td>\n",
       "      <td id=\"T_f37c7_row11_col5\" class=\"data row11 col5\" >0.0607</td>\n",
       "      <td id=\"T_f37c7_row11_col6\" class=\"data row11 col6\" >0.1224</td>\n",
       "      <td id=\"T_f37c7_row11_col7\" class=\"data row11 col7\" >0.5033</td>\n",
       "    </tr>\n",
       "    <tr>\n",
       "      <th id=\"T_f37c7_level0_row12\" class=\"row_heading level0 row12\" >lar</th>\n",
       "      <td id=\"T_f37c7_row12_col0\" class=\"data row12 col0\" >Least Angle Regression</td>\n",
       "      <td id=\"T_f37c7_row12_col1\" class=\"data row12 col1\" >0.0885</td>\n",
       "      <td id=\"T_f37c7_row12_col2\" class=\"data row12 col2\" >0.0428</td>\n",
       "      <td id=\"T_f37c7_row12_col3\" class=\"data row12 col3\" >0.1616</td>\n",
       "      <td id=\"T_f37c7_row12_col4\" class=\"data row12 col4\" >-0.8741</td>\n",
       "      <td id=\"T_f37c7_row12_col5\" class=\"data row12 col5\" >0.0798</td>\n",
       "      <td id=\"T_f37c7_row12_col6\" class=\"data row12 col6\" >0.1344</td>\n",
       "      <td id=\"T_f37c7_row12_col7\" class=\"data row12 col7\" >0.5100</td>\n",
       "    </tr>\n",
       "    <tr>\n",
       "      <th id=\"T_f37c7_level0_row13\" class=\"row_heading level0 row13\" >knn</th>\n",
       "      <td id=\"T_f37c7_row13_col0\" class=\"data row13 col0\" >K Neighbors Regressor</td>\n",
       "      <td id=\"T_f37c7_row13_col1\" class=\"data row13 col1\" >0.1054</td>\n",
       "      <td id=\"T_f37c7_row13_col2\" class=\"data row13 col2\" >0.0204</td>\n",
       "      <td id=\"T_f37c7_row13_col3\" class=\"data row13 col3\" >0.1428</td>\n",
       "      <td id=\"T_f37c7_row13_col4\" class=\"data row13 col4\" >0.0864</td>\n",
       "      <td id=\"T_f37c7_row13_col5\" class=\"data row13 col5\" >0.0880</td>\n",
       "      <td id=\"T_f37c7_row13_col6\" class=\"data row13 col6\" >0.1849</td>\n",
       "      <td id=\"T_f37c7_row13_col7\" class=\"data row13 col7\" >0.0067</td>\n",
       "    </tr>\n",
       "    <tr>\n",
       "      <th id=\"T_f37c7_level0_row14\" class=\"row_heading level0 row14\" >llar</th>\n",
       "      <td id=\"T_f37c7_row14_col0\" class=\"data row14 col0\" >Lasso Least Angle Regression</td>\n",
       "      <td id=\"T_f37c7_row14_col1\" class=\"data row14 col1\" >0.1157</td>\n",
       "      <td id=\"T_f37c7_row14_col2\" class=\"data row14 col2\" >0.0228</td>\n",
       "      <td id=\"T_f37c7_row14_col3\" class=\"data row14 col3\" >0.1508</td>\n",
       "      <td id=\"T_f37c7_row14_col4\" class=\"data row14 col4\" >-0.0156</td>\n",
       "      <td id=\"T_f37c7_row14_col5\" class=\"data row14 col5\" >0.0919</td>\n",
       "      <td id=\"T_f37c7_row14_col6\" class=\"data row14 col6\" >0.1966</td>\n",
       "      <td id=\"T_f37c7_row14_col7\" class=\"data row14 col7\" >0.5100</td>\n",
       "    </tr>\n",
       "    <tr>\n",
       "      <th id=\"T_f37c7_level0_row15\" class=\"row_heading level0 row15\" >dummy</th>\n",
       "      <td id=\"T_f37c7_row15_col0\" class=\"data row15 col0\" >Dummy Regressor</td>\n",
       "      <td id=\"T_f37c7_row15_col1\" class=\"data row15 col1\" >0.1157</td>\n",
       "      <td id=\"T_f37c7_row15_col2\" class=\"data row15 col2\" >0.0228</td>\n",
       "      <td id=\"T_f37c7_row15_col3\" class=\"data row15 col3\" >0.1508</td>\n",
       "      <td id=\"T_f37c7_row15_col4\" class=\"data row15 col4\" >-0.0156</td>\n",
       "      <td id=\"T_f37c7_row15_col5\" class=\"data row15 col5\" >0.0919</td>\n",
       "      <td id=\"T_f37c7_row15_col6\" class=\"data row15 col6\" >0.1966</td>\n",
       "      <td id=\"T_f37c7_row15_col7\" class=\"data row15 col7\" >0.0033</td>\n",
       "    </tr>\n",
       "    <tr>\n",
       "      <th id=\"T_f37c7_level0_row16\" class=\"row_heading level0 row16\" >par</th>\n",
       "      <td id=\"T_f37c7_row16_col0\" class=\"data row16 col0\" >Passive Aggressive Regressor</td>\n",
       "      <td id=\"T_f37c7_row16_col1\" class=\"data row16 col1\" >0.1923</td>\n",
       "      <td id=\"T_f37c7_row16_col2\" class=\"data row16 col2\" >0.2484</td>\n",
       "      <td id=\"T_f37c7_row16_col3\" class=\"data row16 col3\" >0.4187</td>\n",
       "      <td id=\"T_f37c7_row16_col4\" class=\"data row16 col4\" >-10.0574</td>\n",
       "      <td id=\"T_f37c7_row16_col5\" class=\"data row16 col5\" >0.1565</td>\n",
       "      <td id=\"T_f37c7_row16_col6\" class=\"data row16 col6\" >0.2833</td>\n",
       "      <td id=\"T_f37c7_row16_col7\" class=\"data row16 col7\" >0.0033</td>\n",
       "    </tr>\n",
       "    <tr>\n",
       "      <th id=\"T_f37c7_level0_row17\" class=\"row_heading level0 row17\" >huber</th>\n",
       "      <td id=\"T_f37c7_row17_col0\" class=\"data row17 col0\" >Huber Regressor</td>\n",
       "      <td id=\"T_f37c7_row17_col1\" class=\"data row17 col1\" >0.1974</td>\n",
       "      <td id=\"T_f37c7_row17_col2\" class=\"data row17 col2\" >0.1123</td>\n",
       "      <td id=\"T_f37c7_row17_col3\" class=\"data row17 col3\" >0.3241</td>\n",
       "      <td id=\"T_f37c7_row17_col4\" class=\"data row17 col4\" >-3.9343</td>\n",
       "      <td id=\"T_f37c7_row17_col5\" class=\"data row17 col5\" >0.1437</td>\n",
       "      <td id=\"T_f37c7_row17_col6\" class=\"data row17 col6\" >0.3162</td>\n",
       "      <td id=\"T_f37c7_row17_col7\" class=\"data row17 col7\" >0.0100</td>\n",
       "    </tr>\n",
       "  </tbody>\n",
       "</table>\n"
      ],
      "text/plain": [
       "<pandas.io.formats.style.Styler at 0x2688f2e19d0>"
      ]
     },
     "metadata": {},
     "output_type": "display_data"
    }
   ],
   "source": [
    "best = compare_models(sort = 'MAE')"
   ]
  },
  {
   "cell_type": "code",
   "execution_count": 6,
   "metadata": {},
   "outputs": [
    {
     "data": {
      "text/html": [
       "<style type=\"text/css\">\n",
       "</style>\n",
       "<table id=\"T_f327f\">\n",
       "  <thead>\n",
       "    <tr>\n",
       "      <th class=\"blank level0\" >&nbsp;</th>\n",
       "      <th id=\"T_f327f_level0_col0\" class=\"col_heading level0 col0\" >Model</th>\n",
       "      <th id=\"T_f327f_level0_col1\" class=\"col_heading level0 col1\" >MAE</th>\n",
       "      <th id=\"T_f327f_level0_col2\" class=\"col_heading level0 col2\" >MSE</th>\n",
       "      <th id=\"T_f327f_level0_col3\" class=\"col_heading level0 col3\" >RMSE</th>\n",
       "      <th id=\"T_f327f_level0_col4\" class=\"col_heading level0 col4\" >R2</th>\n",
       "      <th id=\"T_f327f_level0_col5\" class=\"col_heading level0 col5\" >RMSLE</th>\n",
       "      <th id=\"T_f327f_level0_col6\" class=\"col_heading level0 col6\" >MAPE</th>\n",
       "    </tr>\n",
       "  </thead>\n",
       "  <tbody>\n",
       "    <tr>\n",
       "      <th id=\"T_f327f_level0_row0\" class=\"row_heading level0 row0\" >0</th>\n",
       "      <td id=\"T_f327f_row0_col0\" class=\"data row0 col0\" >Extra Trees Regressor</td>\n",
       "      <td id=\"T_f327f_row0_col1\" class=\"data row0 col1\" >0.0289</td>\n",
       "      <td id=\"T_f327f_row0_col2\" class=\"data row0 col2\" >0.0036</td>\n",
       "      <td id=\"T_f327f_row0_col3\" class=\"data row0 col3\" >0.0597</td>\n",
       "      <td id=\"T_f327f_row0_col4\" class=\"data row0 col4\" >0.8286</td>\n",
       "      <td id=\"T_f327f_row0_col5\" class=\"data row0 col5\" >0.0393</td>\n",
       "      <td id=\"T_f327f_row0_col6\" class=\"data row0 col6\" >0.0571</td>\n",
       "    </tr>\n",
       "  </tbody>\n",
       "</table>\n"
      ],
      "text/plain": [
       "<pandas.io.formats.style.Styler at 0x2688f2e8d00>"
      ]
     },
     "metadata": {},
     "output_type": "display_data"
    }
   ],
   "source": [
    "predictions = predict_model(best, data = X_test)"
   ]
  },
  {
   "cell_type": "code",
   "execution_count": 7,
   "metadata": {},
   "outputs": [
    {
     "data": {
      "text/html": [
       "<div>\n",
       "<style scoped>\n",
       "    .dataframe tbody tr th:only-of-type {\n",
       "        vertical-align: middle;\n",
       "    }\n",
       "\n",
       "    .dataframe tbody tr th {\n",
       "        vertical-align: top;\n",
       "    }\n",
       "\n",
       "    .dataframe thead th {\n",
       "        text-align: right;\n",
       "    }\n",
       "</style>\n",
       "<table border=\"1\" class=\"dataframe\">\n",
       "  <thead>\n",
       "    <tr style=\"text-align: right;\">\n",
       "      <th></th>\n",
       "      <th>targeted_productivity</th>\n",
       "      <th>smv</th>\n",
       "      <th>wip</th>\n",
       "      <th>over_time</th>\n",
       "      <th>incentive</th>\n",
       "      <th>idle_time</th>\n",
       "      <th>idle_men</th>\n",
       "      <th>no_of_style_change</th>\n",
       "      <th>no_of_workers</th>\n",
       "      <th>actual_productivity</th>\n",
       "      <th>...</th>\n",
       "      <th>team_4</th>\n",
       "      <th>team_5</th>\n",
       "      <th>team_6</th>\n",
       "      <th>team_7</th>\n",
       "      <th>team_8</th>\n",
       "      <th>team_9</th>\n",
       "      <th>team_10</th>\n",
       "      <th>team_11</th>\n",
       "      <th>team_12</th>\n",
       "      <th>Label</th>\n",
       "    </tr>\n",
       "  </thead>\n",
       "  <tbody>\n",
       "    <tr>\n",
       "      <th>658</th>\n",
       "      <td>0.8</td>\n",
       "      <td>22.52</td>\n",
       "      <td>1615.0</td>\n",
       "      <td>6780</td>\n",
       "      <td>88</td>\n",
       "      <td>0.0</td>\n",
       "      <td>0</td>\n",
       "      <td>0</td>\n",
       "      <td>56.5</td>\n",
       "      <td>0.900136</td>\n",
       "      <td>...</td>\n",
       "      <td>0</td>\n",
       "      <td>0</td>\n",
       "      <td>0</td>\n",
       "      <td>0</td>\n",
       "      <td>0</td>\n",
       "      <td>0</td>\n",
       "      <td>0</td>\n",
       "      <td>0</td>\n",
       "      <td>0</td>\n",
       "      <td>0.900500</td>\n",
       "    </tr>\n",
       "    <tr>\n",
       "      <th>1166</th>\n",
       "      <td>0.7</td>\n",
       "      <td>23.41</td>\n",
       "      <td>1180.0</td>\n",
       "      <td>4560</td>\n",
       "      <td>30</td>\n",
       "      <td>0.0</td>\n",
       "      <td>0</td>\n",
       "      <td>1</td>\n",
       "      <td>38.0</td>\n",
       "      <td>0.700246</td>\n",
       "      <td>...</td>\n",
       "      <td>0</td>\n",
       "      <td>0</td>\n",
       "      <td>1</td>\n",
       "      <td>0</td>\n",
       "      <td>0</td>\n",
       "      <td>0</td>\n",
       "      <td>0</td>\n",
       "      <td>0</td>\n",
       "      <td>0</td>\n",
       "      <td>0.698104</td>\n",
       "    </tr>\n",
       "    <tr>\n",
       "      <th>451</th>\n",
       "      <td>0.7</td>\n",
       "      <td>29.12</td>\n",
       "      <td>1143.0</td>\n",
       "      <td>10440</td>\n",
       "      <td>40</td>\n",
       "      <td>0.0</td>\n",
       "      <td>0</td>\n",
       "      <td>0</td>\n",
       "      <td>58.0</td>\n",
       "      <td>0.700614</td>\n",
       "      <td>...</td>\n",
       "      <td>0</td>\n",
       "      <td>0</td>\n",
       "      <td>0</td>\n",
       "      <td>0</td>\n",
       "      <td>0</td>\n",
       "      <td>1</td>\n",
       "      <td>0</td>\n",
       "      <td>0</td>\n",
       "      <td>0</td>\n",
       "      <td>0.688705</td>\n",
       "    </tr>\n",
       "    <tr>\n",
       "      <th>593</th>\n",
       "      <td>0.7</td>\n",
       "      <td>18.79</td>\n",
       "      <td>913.0</td>\n",
       "      <td>4020</td>\n",
       "      <td>30</td>\n",
       "      <td>0.0</td>\n",
       "      <td>0</td>\n",
       "      <td>0</td>\n",
       "      <td>33.5</td>\n",
       "      <td>0.700185</td>\n",
       "      <td>...</td>\n",
       "      <td>0</td>\n",
       "      <td>0</td>\n",
       "      <td>1</td>\n",
       "      <td>0</td>\n",
       "      <td>0</td>\n",
       "      <td>0</td>\n",
       "      <td>0</td>\n",
       "      <td>0</td>\n",
       "      <td>0</td>\n",
       "      <td>0.699746</td>\n",
       "    </tr>\n",
       "    <tr>\n",
       "      <th>563</th>\n",
       "      <td>0.8</td>\n",
       "      <td>22.52</td>\n",
       "      <td>21385.0</td>\n",
       "      <td>7020</td>\n",
       "      <td>88</td>\n",
       "      <td>0.0</td>\n",
       "      <td>0</td>\n",
       "      <td>0</td>\n",
       "      <td>58.5</td>\n",
       "      <td>0.900158</td>\n",
       "      <td>...</td>\n",
       "      <td>0</td>\n",
       "      <td>0</td>\n",
       "      <td>0</td>\n",
       "      <td>0</td>\n",
       "      <td>0</td>\n",
       "      <td>0</td>\n",
       "      <td>0</td>\n",
       "      <td>0</td>\n",
       "      <td>0</td>\n",
       "      <td>0.910533</td>\n",
       "    </tr>\n",
       "    <tr>\n",
       "      <th>...</th>\n",
       "      <td>...</td>\n",
       "      <td>...</td>\n",
       "      <td>...</td>\n",
       "      <td>...</td>\n",
       "      <td>...</td>\n",
       "      <td>...</td>\n",
       "      <td>...</td>\n",
       "      <td>...</td>\n",
       "      <td>...</td>\n",
       "      <td>...</td>\n",
       "      <td>...</td>\n",
       "      <td>...</td>\n",
       "      <td>...</td>\n",
       "      <td>...</td>\n",
       "      <td>...</td>\n",
       "      <td>...</td>\n",
       "      <td>...</td>\n",
       "      <td>...</td>\n",
       "      <td>...</td>\n",
       "      <td>...</td>\n",
       "      <td>...</td>\n",
       "    </tr>\n",
       "    <tr>\n",
       "      <th>898</th>\n",
       "      <td>0.7</td>\n",
       "      <td>21.25</td>\n",
       "      <td>1583.0</td>\n",
       "      <td>6000</td>\n",
       "      <td>0</td>\n",
       "      <td>0.0</td>\n",
       "      <td>0</td>\n",
       "      <td>1</td>\n",
       "      <td>50.0</td>\n",
       "      <td>0.417917</td>\n",
       "      <td>...</td>\n",
       "      <td>0</td>\n",
       "      <td>0</td>\n",
       "      <td>0</td>\n",
       "      <td>0</td>\n",
       "      <td>0</td>\n",
       "      <td>0</td>\n",
       "      <td>1</td>\n",
       "      <td>0</td>\n",
       "      <td>0</td>\n",
       "      <td>0.520710</td>\n",
       "    </tr>\n",
       "    <tr>\n",
       "      <th>43</th>\n",
       "      <td>0.8</td>\n",
       "      <td>11.61</td>\n",
       "      <td>539.0</td>\n",
       "      <td>6975</td>\n",
       "      <td>50</td>\n",
       "      <td>0.0</td>\n",
       "      <td>0</td>\n",
       "      <td>0</td>\n",
       "      <td>31.0</td>\n",
       "      <td>0.879714</td>\n",
       "      <td>...</td>\n",
       "      <td>0</td>\n",
       "      <td>0</td>\n",
       "      <td>1</td>\n",
       "      <td>0</td>\n",
       "      <td>0</td>\n",
       "      <td>0</td>\n",
       "      <td>0</td>\n",
       "      <td>0</td>\n",
       "      <td>0</td>\n",
       "      <td>0.798326</td>\n",
       "    </tr>\n",
       "    <tr>\n",
       "      <th>286</th>\n",
       "      <td>0.8</td>\n",
       "      <td>25.90</td>\n",
       "      <td>1292.0</td>\n",
       "      <td>10170</td>\n",
       "      <td>50</td>\n",
       "      <td>0.0</td>\n",
       "      <td>0</td>\n",
       "      <td>0</td>\n",
       "      <td>56.5</td>\n",
       "      <td>0.800129</td>\n",
       "      <td>...</td>\n",
       "      <td>0</td>\n",
       "      <td>0</td>\n",
       "      <td>0</td>\n",
       "      <td>0</td>\n",
       "      <td>1</td>\n",
       "      <td>0</td>\n",
       "      <td>0</td>\n",
       "      <td>0</td>\n",
       "      <td>0</td>\n",
       "      <td>0.801253</td>\n",
       "    </tr>\n",
       "    <tr>\n",
       "      <th>890</th>\n",
       "      <td>0.8</td>\n",
       "      <td>30.10</td>\n",
       "      <td>541.0</td>\n",
       "      <td>7140</td>\n",
       "      <td>38</td>\n",
       "      <td>0.0</td>\n",
       "      <td>0</td>\n",
       "      <td>0</td>\n",
       "      <td>59.0</td>\n",
       "      <td>0.800137</td>\n",
       "      <td>...</td>\n",
       "      <td>0</td>\n",
       "      <td>1</td>\n",
       "      <td>0</td>\n",
       "      <td>0</td>\n",
       "      <td>0</td>\n",
       "      <td>0</td>\n",
       "      <td>0</td>\n",
       "      <td>0</td>\n",
       "      <td>0</td>\n",
       "      <td>0.764018</td>\n",
       "    </tr>\n",
       "    <tr>\n",
       "      <th>1105</th>\n",
       "      <td>0.7</td>\n",
       "      <td>27.48</td>\n",
       "      <td>541.0</td>\n",
       "      <td>6960</td>\n",
       "      <td>24</td>\n",
       "      <td>0.0</td>\n",
       "      <td>0</td>\n",
       "      <td>1</td>\n",
       "      <td>58.0</td>\n",
       "      <td>0.408960</td>\n",
       "      <td>...</td>\n",
       "      <td>0</td>\n",
       "      <td>1</td>\n",
       "      <td>0</td>\n",
       "      <td>0</td>\n",
       "      <td>0</td>\n",
       "      <td>0</td>\n",
       "      <td>0</td>\n",
       "      <td>0</td>\n",
       "      <td>0</td>\n",
       "      <td>0.620426</td>\n",
       "    </tr>\n",
       "  </tbody>\n",
       "</table>\n",
       "<p>139 rows × 33 columns</p>\n",
       "</div>"
      ],
      "text/plain": [
       "      targeted_productivity    smv      wip  over_time  incentive  idle_time  \\\n",
       "658                     0.8  22.52   1615.0       6780         88        0.0   \n",
       "1166                    0.7  23.41   1180.0       4560         30        0.0   \n",
       "451                     0.7  29.12   1143.0      10440         40        0.0   \n",
       "593                     0.7  18.79    913.0       4020         30        0.0   \n",
       "563                     0.8  22.52  21385.0       7020         88        0.0   \n",
       "...                     ...    ...      ...        ...        ...        ...   \n",
       "898                     0.7  21.25   1583.0       6000          0        0.0   \n",
       "43                      0.8  11.61    539.0       6975         50        0.0   \n",
       "286                     0.8  25.90   1292.0      10170         50        0.0   \n",
       "890                     0.8  30.10    541.0       7140         38        0.0   \n",
       "1105                    0.7  27.48    541.0       6960         24        0.0   \n",
       "\n",
       "      idle_men  no_of_style_change  no_of_workers  actual_productivity  ...  \\\n",
       "658          0                   0           56.5             0.900136  ...   \n",
       "1166         0                   1           38.0             0.700246  ...   \n",
       "451          0                   0           58.0             0.700614  ...   \n",
       "593          0                   0           33.5             0.700185  ...   \n",
       "563          0                   0           58.5             0.900158  ...   \n",
       "...        ...                 ...            ...                  ...  ...   \n",
       "898          0                   1           50.0             0.417917  ...   \n",
       "43           0                   0           31.0             0.879714  ...   \n",
       "286          0                   0           56.5             0.800129  ...   \n",
       "890          0                   0           59.0             0.800137  ...   \n",
       "1105         0                   1           58.0             0.408960  ...   \n",
       "\n",
       "      team_4  team_5  team_6  team_7  team_8  team_9  team_10  team_11  \\\n",
       "658        0       0       0       0       0       0        0        0   \n",
       "1166       0       0       1       0       0       0        0        0   \n",
       "451        0       0       0       0       0       1        0        0   \n",
       "593        0       0       1       0       0       0        0        0   \n",
       "563        0       0       0       0       0       0        0        0   \n",
       "...      ...     ...     ...     ...     ...     ...      ...      ...   \n",
       "898        0       0       0       0       0       0        1        0   \n",
       "43         0       0       1       0       0       0        0        0   \n",
       "286        0       0       0       0       1       0        0        0   \n",
       "890        0       1       0       0       0       0        0        0   \n",
       "1105       0       1       0       0       0       0        0        0   \n",
       "\n",
       "      team_12     Label  \n",
       "658         0  0.900500  \n",
       "1166        0  0.698104  \n",
       "451         0  0.688705  \n",
       "593         0  0.699746  \n",
       "563         0  0.910533  \n",
       "...       ...       ...  \n",
       "898         0  0.520710  \n",
       "43          0  0.798326  \n",
       "286         0  0.801253  \n",
       "890         0  0.764018  \n",
       "1105        0  0.620426  \n",
       "\n",
       "[139 rows x 33 columns]"
      ]
     },
     "execution_count": 7,
     "metadata": {},
     "output_type": "execute_result"
    }
   ],
   "source": [
    "predictions"
   ]
  },
  {
   "cell_type": "code",
   "execution_count": 8,
   "metadata": {},
   "outputs": [
    {
     "data": {
      "application/vnd.plotly.v1+json": {
       "config": {
        "plotlyServerURL": "https://plot.ly"
       },
       "data": [
        {
         "hovertemplate": "variable=actual_productivity<br>incentive=%{x}<br>value=%{y}<extra></extra>",
         "legendgroup": "actual_productivity",
         "marker": {
          "color": "#636efa",
          "symbol": "circle"
         },
         "mode": "markers",
         "name": "actual_productivity",
         "orientation": "v",
         "showlegend": true,
         "type": "scatter",
         "x": [
          88,
          30,
          40,
          30,
          88,
          23,
          88,
          26,
          50,
          56,
          75,
          38,
          0,
          50,
          0,
          50,
          63,
          50,
          50,
          26,
          100,
          34,
          81,
          40,
          0,
          0,
          60,
          38,
          38,
          0,
          75,
          45,
          38,
          75,
          30,
          26,
          29,
          23,
          40,
          70,
          23,
          88,
          113,
          56,
          0,
          0,
          63,
          40,
          60,
          0,
          50,
          50,
          0,
          50,
          63,
          23,
          30,
          113,
          63,
          45,
          50,
          40,
          0,
          63,
          30,
          45,
          34,
          38,
          50,
          60,
          94,
          50,
          30,
          69,
          45,
          45,
          26,
          55,
          75,
          38,
          26,
          0,
          25,
          34,
          23,
          56,
          75,
          50,
          50,
          69,
          63,
          23,
          50,
          50,
          40,
          38,
          30,
          0,
          0,
          34,
          63,
          50,
          40,
          113,
          50,
          45,
          75,
          44,
          60,
          63,
          40,
          50,
          34,
          50,
          63,
          0,
          69,
          50,
          75,
          60,
          0,
          60,
          23,
          30,
          0,
          60,
          113,
          113,
          63,
          50,
          75,
          30,
          38,
          81,
          0,
          50,
          50,
          38,
          24
         ],
         "xaxis": "x",
         "y": [
          0.900135693,
          0.700246491,
          0.70061442,
          0.700184577,
          0.900158405,
          0.60017284,
          0.900129762,
          0.650243497,
          0.800259023,
          0.750031447,
          0.700508929,
          0.600273268,
          0.650134,
          0.800273829,
          0.471108491,
          0.790003236,
          0.800279693,
          0.800401961,
          0.800034503,
          0.650044068,
          0.950185965,
          0.750593103,
          0.800473729,
          0.700618234,
          0.355534483,
          0.260978788,
          0.850312684,
          0.800128721,
          0.800312375,
          0.535677966,
          0.850502311,
          0.750473684,
          0.800246753,
          0.850502311,
          0.700079032,
          0.650416734,
          0.520237649,
          0.500801724,
          0.7005417,
          0.900144811,
          0.500061916,
          0.900215716,
          1.000018551,
          0.750425926,
          0.65024031,
          0.579511494,
          0.800401961,
          0.60128,
          0.850136766,
          0.361071429,
          0.800489676,
          0.800343766,
          0.456875,
          0.707045902,
          0.800594466,
          0.500033898,
          0.700362069,
          0.999995238,
          0.80000295,
          0.750473684,
          0.800030199,
          0.700250784,
          0.7,
          0.800497246,
          0.475718391,
          0.750395513,
          0.700029771,
          0.800128721,
          0.800313433,
          0.85011396,
          0.900321106,
          0.800570492,
          0.700362069,
          0.8,
          0.750212553,
          0.750050847,
          0.650421429,
          0.750254867,
          0.850502311,
          0.800947475,
          0.650407524,
          0.433263158,
          0.630402924,
          0.750395513,
          0.35020649,
          0.656763743,
          0.850502311,
          0.80003139,
          0.800237838,
          0.8,
          0.800470513,
          0.60041361,
          0.800076522,
          0.800401961,
          0.700480831,
          0.750517565,
          0.600291767,
          0.672140805,
          0.700251773,
          0.750608,
          0.800401961,
          0.800393224,
          0.59114168,
          1.000602279,
          0.800343766,
          0.750395513,
          0.850502311,
          0.64998056,
          0.850312684,
          0.800318644,
          0.700424138,
          0.800128721,
          0.753097531,
          0.800246753,
          0.800343766,
          0.750356125,
          0.80035194,
          0.700063796,
          0.850520588,
          0.850136766,
          0.700612069,
          0.700278846,
          0.500241342,
          0.700556897,
          0.251399254,
          0.850136766,
          0.999995238,
          1.000230409,
          0.800355208,
          0.800246011,
          0.850522167,
          0.700422,
          0.80007657,
          0.850610526,
          0.417916667,
          0.879714482,
          0.800128721,
          0.800137255,
          0.408960345
         ],
         "yaxis": "y"
        }
       ],
       "layout": {
        "legend": {
         "title": {
          "text": "variable"
         },
         "tracegroupgap": 0
        },
        "margin": {
         "t": 60
        },
        "template": {
         "data": {
          "bar": [
           {
            "error_x": {
             "color": "#2a3f5f"
            },
            "error_y": {
             "color": "#2a3f5f"
            },
            "marker": {
             "line": {
              "color": "#E5ECF6",
              "width": 0.5
             },
             "pattern": {
              "fillmode": "overlay",
              "size": 10,
              "solidity": 0.2
             }
            },
            "type": "bar"
           }
          ],
          "barpolar": [
           {
            "marker": {
             "line": {
              "color": "#E5ECF6",
              "width": 0.5
             },
             "pattern": {
              "fillmode": "overlay",
              "size": 10,
              "solidity": 0.2
             }
            },
            "type": "barpolar"
           }
          ],
          "carpet": [
           {
            "aaxis": {
             "endlinecolor": "#2a3f5f",
             "gridcolor": "white",
             "linecolor": "white",
             "minorgridcolor": "white",
             "startlinecolor": "#2a3f5f"
            },
            "baxis": {
             "endlinecolor": "#2a3f5f",
             "gridcolor": "white",
             "linecolor": "white",
             "minorgridcolor": "white",
             "startlinecolor": "#2a3f5f"
            },
            "type": "carpet"
           }
          ],
          "choropleth": [
           {
            "colorbar": {
             "outlinewidth": 0,
             "ticks": ""
            },
            "type": "choropleth"
           }
          ],
          "contour": [
           {
            "colorbar": {
             "outlinewidth": 0,
             "ticks": ""
            },
            "colorscale": [
             [
              0,
              "#0d0887"
             ],
             [
              0.1111111111111111,
              "#46039f"
             ],
             [
              0.2222222222222222,
              "#7201a8"
             ],
             [
              0.3333333333333333,
              "#9c179e"
             ],
             [
              0.4444444444444444,
              "#bd3786"
             ],
             [
              0.5555555555555556,
              "#d8576b"
             ],
             [
              0.6666666666666666,
              "#ed7953"
             ],
             [
              0.7777777777777778,
              "#fb9f3a"
             ],
             [
              0.8888888888888888,
              "#fdca26"
             ],
             [
              1,
              "#f0f921"
             ]
            ],
            "type": "contour"
           }
          ],
          "contourcarpet": [
           {
            "colorbar": {
             "outlinewidth": 0,
             "ticks": ""
            },
            "type": "contourcarpet"
           }
          ],
          "heatmap": [
           {
            "colorbar": {
             "outlinewidth": 0,
             "ticks": ""
            },
            "colorscale": [
             [
              0,
              "#0d0887"
             ],
             [
              0.1111111111111111,
              "#46039f"
             ],
             [
              0.2222222222222222,
              "#7201a8"
             ],
             [
              0.3333333333333333,
              "#9c179e"
             ],
             [
              0.4444444444444444,
              "#bd3786"
             ],
             [
              0.5555555555555556,
              "#d8576b"
             ],
             [
              0.6666666666666666,
              "#ed7953"
             ],
             [
              0.7777777777777778,
              "#fb9f3a"
             ],
             [
              0.8888888888888888,
              "#fdca26"
             ],
             [
              1,
              "#f0f921"
             ]
            ],
            "type": "heatmap"
           }
          ],
          "heatmapgl": [
           {
            "colorbar": {
             "outlinewidth": 0,
             "ticks": ""
            },
            "colorscale": [
             [
              0,
              "#0d0887"
             ],
             [
              0.1111111111111111,
              "#46039f"
             ],
             [
              0.2222222222222222,
              "#7201a8"
             ],
             [
              0.3333333333333333,
              "#9c179e"
             ],
             [
              0.4444444444444444,
              "#bd3786"
             ],
             [
              0.5555555555555556,
              "#d8576b"
             ],
             [
              0.6666666666666666,
              "#ed7953"
             ],
             [
              0.7777777777777778,
              "#fb9f3a"
             ],
             [
              0.8888888888888888,
              "#fdca26"
             ],
             [
              1,
              "#f0f921"
             ]
            ],
            "type": "heatmapgl"
           }
          ],
          "histogram": [
           {
            "marker": {
             "pattern": {
              "fillmode": "overlay",
              "size": 10,
              "solidity": 0.2
             }
            },
            "type": "histogram"
           }
          ],
          "histogram2d": [
           {
            "colorbar": {
             "outlinewidth": 0,
             "ticks": ""
            },
            "colorscale": [
             [
              0,
              "#0d0887"
             ],
             [
              0.1111111111111111,
              "#46039f"
             ],
             [
              0.2222222222222222,
              "#7201a8"
             ],
             [
              0.3333333333333333,
              "#9c179e"
             ],
             [
              0.4444444444444444,
              "#bd3786"
             ],
             [
              0.5555555555555556,
              "#d8576b"
             ],
             [
              0.6666666666666666,
              "#ed7953"
             ],
             [
              0.7777777777777778,
              "#fb9f3a"
             ],
             [
              0.8888888888888888,
              "#fdca26"
             ],
             [
              1,
              "#f0f921"
             ]
            ],
            "type": "histogram2d"
           }
          ],
          "histogram2dcontour": [
           {
            "colorbar": {
             "outlinewidth": 0,
             "ticks": ""
            },
            "colorscale": [
             [
              0,
              "#0d0887"
             ],
             [
              0.1111111111111111,
              "#46039f"
             ],
             [
              0.2222222222222222,
              "#7201a8"
             ],
             [
              0.3333333333333333,
              "#9c179e"
             ],
             [
              0.4444444444444444,
              "#bd3786"
             ],
             [
              0.5555555555555556,
              "#d8576b"
             ],
             [
              0.6666666666666666,
              "#ed7953"
             ],
             [
              0.7777777777777778,
              "#fb9f3a"
             ],
             [
              0.8888888888888888,
              "#fdca26"
             ],
             [
              1,
              "#f0f921"
             ]
            ],
            "type": "histogram2dcontour"
           }
          ],
          "mesh3d": [
           {
            "colorbar": {
             "outlinewidth": 0,
             "ticks": ""
            },
            "type": "mesh3d"
           }
          ],
          "parcoords": [
           {
            "line": {
             "colorbar": {
              "outlinewidth": 0,
              "ticks": ""
             }
            },
            "type": "parcoords"
           }
          ],
          "pie": [
           {
            "automargin": true,
            "type": "pie"
           }
          ],
          "scatter": [
           {
            "fillpattern": {
             "fillmode": "overlay",
             "size": 10,
             "solidity": 0.2
            },
            "type": "scatter"
           }
          ],
          "scatter3d": [
           {
            "line": {
             "colorbar": {
              "outlinewidth": 0,
              "ticks": ""
             }
            },
            "marker": {
             "colorbar": {
              "outlinewidth": 0,
              "ticks": ""
             }
            },
            "type": "scatter3d"
           }
          ],
          "scattercarpet": [
           {
            "marker": {
             "colorbar": {
              "outlinewidth": 0,
              "ticks": ""
             }
            },
            "type": "scattercarpet"
           }
          ],
          "scattergeo": [
           {
            "marker": {
             "colorbar": {
              "outlinewidth": 0,
              "ticks": ""
             }
            },
            "type": "scattergeo"
           }
          ],
          "scattergl": [
           {
            "marker": {
             "colorbar": {
              "outlinewidth": 0,
              "ticks": ""
             }
            },
            "type": "scattergl"
           }
          ],
          "scattermapbox": [
           {
            "marker": {
             "colorbar": {
              "outlinewidth": 0,
              "ticks": ""
             }
            },
            "type": "scattermapbox"
           }
          ],
          "scatterpolar": [
           {
            "marker": {
             "colorbar": {
              "outlinewidth": 0,
              "ticks": ""
             }
            },
            "type": "scatterpolar"
           }
          ],
          "scatterpolargl": [
           {
            "marker": {
             "colorbar": {
              "outlinewidth": 0,
              "ticks": ""
             }
            },
            "type": "scatterpolargl"
           }
          ],
          "scatterternary": [
           {
            "marker": {
             "colorbar": {
              "outlinewidth": 0,
              "ticks": ""
             }
            },
            "type": "scatterternary"
           }
          ],
          "surface": [
           {
            "colorbar": {
             "outlinewidth": 0,
             "ticks": ""
            },
            "colorscale": [
             [
              0,
              "#0d0887"
             ],
             [
              0.1111111111111111,
              "#46039f"
             ],
             [
              0.2222222222222222,
              "#7201a8"
             ],
             [
              0.3333333333333333,
              "#9c179e"
             ],
             [
              0.4444444444444444,
              "#bd3786"
             ],
             [
              0.5555555555555556,
              "#d8576b"
             ],
             [
              0.6666666666666666,
              "#ed7953"
             ],
             [
              0.7777777777777778,
              "#fb9f3a"
             ],
             [
              0.8888888888888888,
              "#fdca26"
             ],
             [
              1,
              "#f0f921"
             ]
            ],
            "type": "surface"
           }
          ],
          "table": [
           {
            "cells": {
             "fill": {
              "color": "#EBF0F8"
             },
             "line": {
              "color": "white"
             }
            },
            "header": {
             "fill": {
              "color": "#C8D4E3"
             },
             "line": {
              "color": "white"
             }
            },
            "type": "table"
           }
          ]
         },
         "layout": {
          "annotationdefaults": {
           "arrowcolor": "#2a3f5f",
           "arrowhead": 0,
           "arrowwidth": 1
          },
          "autotypenumbers": "strict",
          "coloraxis": {
           "colorbar": {
            "outlinewidth": 0,
            "ticks": ""
           }
          },
          "colorscale": {
           "diverging": [
            [
             0,
             "#8e0152"
            ],
            [
             0.1,
             "#c51b7d"
            ],
            [
             0.2,
             "#de77ae"
            ],
            [
             0.3,
             "#f1b6da"
            ],
            [
             0.4,
             "#fde0ef"
            ],
            [
             0.5,
             "#f7f7f7"
            ],
            [
             0.6,
             "#e6f5d0"
            ],
            [
             0.7,
             "#b8e186"
            ],
            [
             0.8,
             "#7fbc41"
            ],
            [
             0.9,
             "#4d9221"
            ],
            [
             1,
             "#276419"
            ]
           ],
           "sequential": [
            [
             0,
             "#0d0887"
            ],
            [
             0.1111111111111111,
             "#46039f"
            ],
            [
             0.2222222222222222,
             "#7201a8"
            ],
            [
             0.3333333333333333,
             "#9c179e"
            ],
            [
             0.4444444444444444,
             "#bd3786"
            ],
            [
             0.5555555555555556,
             "#d8576b"
            ],
            [
             0.6666666666666666,
             "#ed7953"
            ],
            [
             0.7777777777777778,
             "#fb9f3a"
            ],
            [
             0.8888888888888888,
             "#fdca26"
            ],
            [
             1,
             "#f0f921"
            ]
           ],
           "sequentialminus": [
            [
             0,
             "#0d0887"
            ],
            [
             0.1111111111111111,
             "#46039f"
            ],
            [
             0.2222222222222222,
             "#7201a8"
            ],
            [
             0.3333333333333333,
             "#9c179e"
            ],
            [
             0.4444444444444444,
             "#bd3786"
            ],
            [
             0.5555555555555556,
             "#d8576b"
            ],
            [
             0.6666666666666666,
             "#ed7953"
            ],
            [
             0.7777777777777778,
             "#fb9f3a"
            ],
            [
             0.8888888888888888,
             "#fdca26"
            ],
            [
             1,
             "#f0f921"
            ]
           ]
          },
          "colorway": [
           "#636efa",
           "#EF553B",
           "#00cc96",
           "#ab63fa",
           "#FFA15A",
           "#19d3f3",
           "#FF6692",
           "#B6E880",
           "#FF97FF",
           "#FECB52"
          ],
          "font": {
           "color": "#2a3f5f"
          },
          "geo": {
           "bgcolor": "white",
           "lakecolor": "white",
           "landcolor": "#E5ECF6",
           "showlakes": true,
           "showland": true,
           "subunitcolor": "white"
          },
          "hoverlabel": {
           "align": "left"
          },
          "hovermode": "closest",
          "mapbox": {
           "style": "light"
          },
          "paper_bgcolor": "white",
          "plot_bgcolor": "#E5ECF6",
          "polar": {
           "angularaxis": {
            "gridcolor": "white",
            "linecolor": "white",
            "ticks": ""
           },
           "bgcolor": "#E5ECF6",
           "radialaxis": {
            "gridcolor": "white",
            "linecolor": "white",
            "ticks": ""
           }
          },
          "scene": {
           "xaxis": {
            "backgroundcolor": "#E5ECF6",
            "gridcolor": "white",
            "gridwidth": 2,
            "linecolor": "white",
            "showbackground": true,
            "ticks": "",
            "zerolinecolor": "white"
           },
           "yaxis": {
            "backgroundcolor": "#E5ECF6",
            "gridcolor": "white",
            "gridwidth": 2,
            "linecolor": "white",
            "showbackground": true,
            "ticks": "",
            "zerolinecolor": "white"
           },
           "zaxis": {
            "backgroundcolor": "#E5ECF6",
            "gridcolor": "white",
            "gridwidth": 2,
            "linecolor": "white",
            "showbackground": true,
            "ticks": "",
            "zerolinecolor": "white"
           }
          },
          "shapedefaults": {
           "line": {
            "color": "#2a3f5f"
           }
          },
          "ternary": {
           "aaxis": {
            "gridcolor": "white",
            "linecolor": "white",
            "ticks": ""
           },
           "baxis": {
            "gridcolor": "white",
            "linecolor": "white",
            "ticks": ""
           },
           "bgcolor": "#E5ECF6",
           "caxis": {
            "gridcolor": "white",
            "linecolor": "white",
            "ticks": ""
           }
          },
          "title": {
           "x": 0.05
          },
          "xaxis": {
           "automargin": true,
           "gridcolor": "white",
           "linecolor": "white",
           "ticks": "",
           "title": {
            "standoff": 15
           },
           "zerolinecolor": "white",
           "zerolinewidth": 2
          },
          "yaxis": {
           "automargin": true,
           "gridcolor": "white",
           "linecolor": "white",
           "ticks": "",
           "title": {
            "standoff": 15
           },
           "zerolinecolor": "white",
           "zerolinewidth": 2
          }
         }
        },
        "xaxis": {
         "anchor": "y",
         "domain": [
          0,
          1
         ],
         "title": {
          "text": "incentive"
         }
        },
        "yaxis": {
         "anchor": "x",
         "domain": [
          0,
          1
         ],
         "title": {
          "text": "value"
         }
        }
       }
      }
     },
     "metadata": {},
     "output_type": "display_data"
    }
   ],
   "source": [
    "import plotly.express as px\n",
    "fig = px.scatter(predictions, x = \"incentive\", y= [\"actual_productivity\"])\n",
    "\n",
    "fig.show()"
   ]
  }
 ],
 "metadata": {
  "kernelspec": {
   "display_name": "Python 3.8.10 64-bit",
   "language": "python",
   "name": "python3"
  },
  "language_info": {
   "codemirror_mode": {
    "name": "ipython",
    "version": 3
   },
   "file_extension": ".py",
   "mimetype": "text/x-python",
   "name": "python",
   "nbconvert_exporter": "python",
   "pygments_lexer": "ipython3",
   "version": "3.8.10"
  },
  "orig_nbformat": 4,
  "vscode": {
   "interpreter": {
    "hash": "c39f656bf8b80ccb6599869ce29963550e21815bcb9193d038cceee10fcaf3d8"
   }
  }
 },
 "nbformat": 4,
 "nbformat_minor": 2
}
