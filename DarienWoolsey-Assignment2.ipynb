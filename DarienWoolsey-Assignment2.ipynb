{
 "cells": [
  {
   "cell_type": "code",
   "execution_count": 126,
   "metadata": {},
   "outputs": [],
   "source": [
    "# Run in Python 3.7 kernel\n",
    "# Import libraries\n",
    "\n",
    "import pandas as pd\n",
    "import numpy as np # creating and manipulating arrays\n",
    "import matplotlib.pyplot as plt # visualizing data\n",
    "import sklearn # regression models\n",
    "import statsmodels.api as sm "
   ]
  },
  {
   "cell_type": "markdown",
   "metadata": {},
   "source": [
    "1. Develop Linear Regression model using Statmodels"
   ]
  },
  {
   "cell_type": "code",
   "execution_count": 127,
   "metadata": {},
   "outputs": [
    {
     "name": "stdout",
     "output_type": "stream",
     "text": [
      "                             OLS Regression Results                            \n",
      "===============================================================================\n",
      "Dep. Variable:     actual_productivity   R-squared:                       0.813\n",
      "Model:                             OLS   Adj. R-squared:                  0.805\n",
      "Method:                  Least Squares   F-statistic:                     99.37\n",
      "Date:                 Tue, 13 Sep 2022   Prob (F-statistic):          3.90e-219\n",
      "Time:                         18:51:11   Log-Likelihood:                 889.27\n",
      "No. Observations:                  691   AIC:                            -1719.\n",
      "Df Residuals:                      661   BIC:                            -1582.\n",
      "Df Model:                           29                                         \n",
      "Covariance Type:             nonrobust                                         \n",
      "=========================================================================================\n",
      "                            coef    std err          t      P>|t|      [0.025      0.975]\n",
      "-----------------------------------------------------------------------------------------\n",
      "targeted_productivity     0.6217      0.031     20.076      0.000       0.561       0.683\n",
      "smv                      -0.0040      0.001     -7.581      0.000      -0.005      -0.003\n",
      "wip                   -9.221e-07   1.51e-06     -0.612      0.540   -3.88e-06    2.03e-06\n",
      "over_time              -3.26e-06   1.09e-06     -2.997      0.003    -5.4e-06   -1.12e-06\n",
      "incentive                 0.0033      0.000     24.691      0.000       0.003       0.004\n",
      "idle_time                 0.0006      0.000      3.184      0.002       0.000       0.001\n",
      "idle_men                 -0.0063      0.001     -8.094      0.000      -0.008      -0.005\n",
      "no_of_style_change        0.0086      0.006      1.387      0.166      -0.004       0.021\n",
      "no_of_workers             0.0020      0.001      3.171      0.002       0.001       0.003\n",
      "quarter_Quarter2         -0.0064      0.007     -0.896      0.371      -0.020       0.008\n",
      "quarter_Quarter3         -0.0074      0.008     -0.919      0.358      -0.023       0.008\n",
      "quarter_Quarter4         -0.0154      0.008     -1.887      0.060      -0.031       0.001\n",
      "quarter_Quarter5         -0.0287      0.016     -1.817      0.070      -0.060       0.002\n",
      "department_finishing  -1.256e-17   3.54e-17     -0.355      0.722    -8.2e-17    5.69e-17\n",
      "department_sweing         0.1457      0.041      3.551      0.000       0.065       0.226\n",
      "day_Saturday             -0.0037      0.010     -0.381      0.703      -0.023       0.015\n",
      "day_Sunday               -0.0105      0.009     -1.148      0.251      -0.029       0.007\n",
      "day_Thursday             -0.0064      0.009     -0.692      0.489      -0.025       0.012\n",
      "day_Tuesday              -0.0031      0.009     -0.340      0.734      -0.021       0.015\n",
      "day_Wednesday            -0.0097      0.009     -1.061      0.289      -0.028       0.008\n",
      "team_2                    0.0148      0.013      1.135      0.257      -0.011       0.040\n",
      "team_3                    0.0042      0.013      0.325      0.745      -0.021       0.030\n",
      "team_4                    0.0143      0.013      1.096      0.273      -0.011       0.040\n",
      "team_5                    0.0071      0.014      0.519      0.604      -0.020       0.034\n",
      "team_6                    0.0233      0.019      1.246      0.213      -0.013       0.060\n",
      "team_7                    0.0250      0.014      1.800      0.072      -0.002       0.052\n",
      "team_8                    0.0057      0.014      0.416      0.678      -0.021       0.032\n",
      "team_9                    0.0010      0.013      0.075      0.940      -0.025       0.027\n",
      "team_10                  -0.0095      0.013     -0.716      0.474      -0.036       0.017\n",
      "team_11                  -0.0433      0.014     -3.060      0.002      -0.071      -0.016\n",
      "team_12                  -0.0019      0.019     -0.099      0.921      -0.039       0.035\n",
      "==============================================================================\n",
      "Omnibus:                      166.759   Durbin-Watson:                   1.701\n",
      "Prob(Omnibus):                  0.000   Jarque-Bera (JB):              893.814\n",
      "Skew:                          -0.970   Prob(JB):                    8.14e-195\n",
      "Kurtosis:                       8.223   Cond. No.                     1.11e+16\n",
      "==============================================================================\n",
      "\n",
      "Notes:\n",
      "[1] Standard Errors assume that the covariance matrix of the errors is correctly specified.\n",
      "[2] The smallest eigenvalue is 2.92e-22. This might indicate that there are\n",
      "strong multicollinearity problems or that the design matrix is singular.\n"
     ]
    }
   ],
   "source": [
    "data = pd.read_csv(\"garments_worker_productivity.csv\", header = 0) # read in data\n",
    "data = pd.get_dummies(data, columns=[\"quarter\",\"department\",\"day\",\"team\"], drop_first=True) # create dummy variables for categorical data\n",
    "data = data.dropna() # drop rows with NaN values\n",
    "data = data.drop('date', axis=1) # drop dates\n",
    "data_ols = sm.add_constant(data)\n",
    "model = sm.OLS(endog= data_ols.actual_productivity, exog = data_ols.loc[:, data_ols.columns!='actual_productivity']) # use actual productivity as the dependent variable, and everything else as independent\n",
    "results = model.fit()\n",
    "print(results.summary())\n",
    "\n",
    "# Compile Significant Variables\n",
    "sigparams = results.params[results.pvalues < 0.05] # Get significant variables\n",
    "sigparams = sigparams.to_frame() # Create a dataframe of them\n",
    "sigparams.columns = ['coefficient'] # Name the columns\n",
    "sigparams = sigparams['coefficient'].astype(float) # Convert to float so that you can sort it by absolute value\n",
    "sigparams = sigparams.sort_values(key=abs, ascending=False) # Order by absolute value"
   ]
  },
  {
   "cell_type": "markdown",
   "metadata": {},
   "source": [
    "2. Select the best features using forward selection"
   ]
  },
  {
   "cell_type": "code",
   "execution_count": 128,
   "metadata": {},
   "outputs": [
    {
     "name": "stdout",
     "output_type": "stream",
     "text": [
      "targeted_productivity    0.621713\n",
      "department_sweing        0.145683\n",
      "team_11                 -0.043256\n",
      "idle_men                -0.006253\n",
      "smv                     -0.003984\n",
      "incentive                0.003253\n",
      "no_of_workers            0.002039\n",
      "idle_time                0.000614\n",
      "over_time               -0.000003\n",
      "Name: coefficient, dtype: float64\n"
     ]
    }
   ],
   "source": [
    "# Show significant parameters\n",
    "print(sigparams)"
   ]
  },
  {
   "cell_type": "markdown",
   "metadata": {},
   "source": [
    "Test Models"
   ]
  },
  {
   "cell_type": "code",
   "execution_count": 133,
   "metadata": {},
   "outputs": [
    {
     "name": "stdout",
     "output_type": "stream",
     "text": [
      "                                 OLS Regression Results                                 \n",
      "========================================================================================\n",
      "Dep. Variable:     actual_productivity   R-squared (uncentered):                   0.977\n",
      "Model:                             OLS   Adj. R-squared (uncentered):              0.977\n",
      "Method:                  Least Squares   F-statistic:                          2.988e+04\n",
      "Date:                 Tue, 13 Sep 2022   Prob (F-statistic):                        0.00\n",
      "Time:                         18:58:00   Log-Likelihood:                          538.86\n",
      "No. Observations:                  691   AIC:                                     -1076.\n",
      "Df Residuals:                      690   BIC:                                     -1071.\n",
      "Df Model:                            1                                                  \n",
      "Covariance Type:             nonrobust                                                  \n",
      "=========================================================================================\n",
      "                            coef    std err          t      P>|t|      [0.025      0.975]\n",
      "-----------------------------------------------------------------------------------------\n",
      "targeted_productivity     0.9985      0.006    172.848      0.000       0.987       1.010\n",
      "==============================================================================\n",
      "Omnibus:                      216.942   Durbin-Watson:                   1.478\n",
      "Prob(Omnibus):                  0.000   Jarque-Bera (JB):              864.083\n",
      "Skew:                          -1.413   Prob(JB):                    2.33e-188\n",
      "Kurtosis:                       7.693   Cond. No.                         1.00\n",
      "==============================================================================\n",
      "\n",
      "Notes:\n",
      "[1] R² is computed without centering (uncentered) since the model does not contain a constant.\n",
      "[2] Standard Errors assume that the covariance matrix of the errors is correctly specified.\n",
      "['targeted_productivity', 'department_sweing']\n"
     ]
    },
    {
     "ename": "ValueError",
     "evalue": "('Shapes must match', (32,), (1,))",
     "output_type": "error",
     "traceback": [
      "\u001b[1;31m---------------------------------------------------------------------------\u001b[0m",
      "\u001b[1;31mValueError\u001b[0m                                Traceback (most recent call last)",
      "\u001b[1;32m~\\AppData\\Local\\Temp\\ipykernel_1200\\500934117.py\u001b[0m in \u001b[0;36m<module>\u001b[1;34m\u001b[0m\n\u001b[0;32m      9\u001b[0m         \u001b[0mil\u001b[0m\u001b[1;33m.\u001b[0m\u001b[0mappend\u001b[0m\u001b[1;33m(\u001b[0m\u001b[0msigparams\u001b[0m\u001b[1;33m.\u001b[0m\u001b[0mindex\u001b[0m\u001b[1;33m[\u001b[0m\u001b[0mx\u001b[0m\u001b[1;33m]\u001b[0m\u001b[1;33m)\u001b[0m\u001b[1;33m\u001b[0m\u001b[1;33m\u001b[0m\u001b[0m\n\u001b[0;32m     10\u001b[0m         \u001b[0mprint\u001b[0m\u001b[1;33m(\u001b[0m\u001b[0mil\u001b[0m\u001b[1;33m)\u001b[0m\u001b[1;33m\u001b[0m\u001b[1;33m\u001b[0m\u001b[0m\n\u001b[1;32m---> 11\u001b[1;33m         \u001b[0mmodel\u001b[0m \u001b[1;33m=\u001b[0m \u001b[0msm\u001b[0m\u001b[1;33m.\u001b[0m\u001b[0mOLS\u001b[0m\u001b[1;33m(\u001b[0m\u001b[0mendog\u001b[0m\u001b[1;33m=\u001b[0m \u001b[0mdata_ols\u001b[0m\u001b[1;33m.\u001b[0m\u001b[0mactual_productivity\u001b[0m\u001b[1;33m,\u001b[0m \u001b[0mexog\u001b[0m \u001b[1;33m=\u001b[0m \u001b[0mdata_ols\u001b[0m\u001b[1;33m.\u001b[0m\u001b[0mloc\u001b[0m\u001b[1;33m[\u001b[0m\u001b[1;33m:\u001b[0m\u001b[1;33m,\u001b[0m \u001b[0mdata_ols\u001b[0m\u001b[1;33m.\u001b[0m\u001b[0mcolumns\u001b[0m\u001b[1;33m==\u001b[0m\u001b[1;33m[\u001b[0m\u001b[0mil\u001b[0m\u001b[1;33m]\u001b[0m\u001b[1;33m]\u001b[0m\u001b[1;33m)\u001b[0m\u001b[1;33m\u001b[0m\u001b[1;33m\u001b[0m\u001b[0m\n\u001b[0m\u001b[0;32m     12\u001b[0m         \u001b[0mresults\u001b[0m \u001b[1;33m=\u001b[0m \u001b[0mmodel\u001b[0m\u001b[1;33m.\u001b[0m\u001b[0mfit\u001b[0m\u001b[1;33m(\u001b[0m\u001b[1;33m)\u001b[0m\u001b[1;33m\u001b[0m\u001b[1;33m\u001b[0m\u001b[0m\n\u001b[0;32m     13\u001b[0m         \u001b[0mprint\u001b[0m\u001b[1;33m(\u001b[0m\u001b[0mresults\u001b[0m\u001b[1;33m.\u001b[0m\u001b[0msummary\u001b[0m\u001b[1;33m(\u001b[0m\u001b[1;33m)\u001b[0m\u001b[1;33m)\u001b[0m\u001b[1;33m\u001b[0m\u001b[1;33m\u001b[0m\u001b[0m\n",
      "\u001b[1;32mc:\\Users\\Qthooloo\\AppData\\Local\\Programs\\Python\\Python37\\lib\\site-packages\\pandas\\core\\ops\\common.py\u001b[0m in \u001b[0;36mnew_method\u001b[1;34m(self, other)\u001b[0m\n\u001b[0;32m     67\u001b[0m         \u001b[0mother\u001b[0m \u001b[1;33m=\u001b[0m \u001b[0mitem_from_zerodim\u001b[0m\u001b[1;33m(\u001b[0m\u001b[0mother\u001b[0m\u001b[1;33m)\u001b[0m\u001b[1;33m\u001b[0m\u001b[1;33m\u001b[0m\u001b[0m\n\u001b[0;32m     68\u001b[0m \u001b[1;33m\u001b[0m\u001b[0m\n\u001b[1;32m---> 69\u001b[1;33m         \u001b[1;32mreturn\u001b[0m \u001b[0mmethod\u001b[0m\u001b[1;33m(\u001b[0m\u001b[0mself\u001b[0m\u001b[1;33m,\u001b[0m \u001b[0mother\u001b[0m\u001b[1;33m)\u001b[0m\u001b[1;33m\u001b[0m\u001b[1;33m\u001b[0m\u001b[0m\n\u001b[0m\u001b[0;32m     70\u001b[0m \u001b[1;33m\u001b[0m\u001b[0m\n\u001b[0;32m     71\u001b[0m     \u001b[1;32mreturn\u001b[0m \u001b[0mnew_method\u001b[0m\u001b[1;33m\u001b[0m\u001b[1;33m\u001b[0m\u001b[0m\n",
      "\u001b[1;32mc:\\Users\\Qthooloo\\AppData\\Local\\Programs\\Python\\Python37\\lib\\site-packages\\pandas\\core\\arraylike.py\u001b[0m in \u001b[0;36m__eq__\u001b[1;34m(self, other)\u001b[0m\n\u001b[0;32m     30\u001b[0m     \u001b[1;33m@\u001b[0m\u001b[0munpack_zerodim_and_defer\u001b[0m\u001b[1;33m(\u001b[0m\u001b[1;34m\"__eq__\"\u001b[0m\u001b[1;33m)\u001b[0m\u001b[1;33m\u001b[0m\u001b[1;33m\u001b[0m\u001b[0m\n\u001b[0;32m     31\u001b[0m     \u001b[1;32mdef\u001b[0m \u001b[0m__eq__\u001b[0m\u001b[1;33m(\u001b[0m\u001b[0mself\u001b[0m\u001b[1;33m,\u001b[0m \u001b[0mother\u001b[0m\u001b[1;33m)\u001b[0m\u001b[1;33m:\u001b[0m\u001b[1;33m\u001b[0m\u001b[1;33m\u001b[0m\u001b[0m\n\u001b[1;32m---> 32\u001b[1;33m         \u001b[1;32mreturn\u001b[0m \u001b[0mself\u001b[0m\u001b[1;33m.\u001b[0m\u001b[0m_cmp_method\u001b[0m\u001b[1;33m(\u001b[0m\u001b[0mother\u001b[0m\u001b[1;33m,\u001b[0m \u001b[0moperator\u001b[0m\u001b[1;33m.\u001b[0m\u001b[0meq\u001b[0m\u001b[1;33m)\u001b[0m\u001b[1;33m\u001b[0m\u001b[1;33m\u001b[0m\u001b[0m\n\u001b[0m\u001b[0;32m     33\u001b[0m \u001b[1;33m\u001b[0m\u001b[0m\n\u001b[0;32m     34\u001b[0m     \u001b[1;33m@\u001b[0m\u001b[0munpack_zerodim_and_defer\u001b[0m\u001b[1;33m(\u001b[0m\u001b[1;34m\"__ne__\"\u001b[0m\u001b[1;33m)\u001b[0m\u001b[1;33m\u001b[0m\u001b[1;33m\u001b[0m\u001b[0m\n",
      "\u001b[1;32mc:\\Users\\Qthooloo\\AppData\\Local\\Programs\\Python\\Python37\\lib\\site-packages\\pandas\\core\\indexes\\base.py\u001b[0m in \u001b[0;36m_cmp_method\u001b[1;34m(self, other, op)\u001b[0m\n\u001b[0;32m   6055\u001b[0m             \u001b[1;31m# don't pass MultiIndex\u001b[0m\u001b[1;33m\u001b[0m\u001b[1;33m\u001b[0m\u001b[1;33m\u001b[0m\u001b[0m\n\u001b[0;32m   6056\u001b[0m             \u001b[1;32mwith\u001b[0m \u001b[0mnp\u001b[0m\u001b[1;33m.\u001b[0m\u001b[0merrstate\u001b[0m\u001b[1;33m(\u001b[0m\u001b[0mall\u001b[0m\u001b[1;33m=\u001b[0m\u001b[1;34m\"ignore\"\u001b[0m\u001b[1;33m)\u001b[0m\u001b[1;33m:\u001b[0m\u001b[1;33m\u001b[0m\u001b[1;33m\u001b[0m\u001b[0m\n\u001b[1;32m-> 6057\u001b[1;33m                 \u001b[0mresult\u001b[0m \u001b[1;33m=\u001b[0m \u001b[0mops\u001b[0m\u001b[1;33m.\u001b[0m\u001b[0mcomp_method_OBJECT_ARRAY\u001b[0m\u001b[1;33m(\u001b[0m\u001b[0mop\u001b[0m\u001b[1;33m,\u001b[0m \u001b[0mself\u001b[0m\u001b[1;33m.\u001b[0m\u001b[0m_values\u001b[0m\u001b[1;33m,\u001b[0m \u001b[0mother\u001b[0m\u001b[1;33m)\u001b[0m\u001b[1;33m\u001b[0m\u001b[1;33m\u001b[0m\u001b[0m\n\u001b[0m\u001b[0;32m   6058\u001b[0m \u001b[1;33m\u001b[0m\u001b[0m\n\u001b[0;32m   6059\u001b[0m         \u001b[1;32melse\u001b[0m\u001b[1;33m:\u001b[0m\u001b[1;33m\u001b[0m\u001b[1;33m\u001b[0m\u001b[0m\n",
      "\u001b[1;32mc:\\Users\\Qthooloo\\AppData\\Local\\Programs\\Python\\Python37\\lib\\site-packages\\pandas\\core\\ops\\array_ops.py\u001b[0m in \u001b[0;36mcomp_method_OBJECT_ARRAY\u001b[1;34m(op, x, y)\u001b[0m\n\u001b[0;32m     68\u001b[0m \u001b[1;33m\u001b[0m\u001b[0m\n\u001b[0;32m     69\u001b[0m         \u001b[1;32mif\u001b[0m \u001b[0mx\u001b[0m\u001b[1;33m.\u001b[0m\u001b[0mshape\u001b[0m \u001b[1;33m!=\u001b[0m \u001b[0my\u001b[0m\u001b[1;33m.\u001b[0m\u001b[0mshape\u001b[0m\u001b[1;33m:\u001b[0m\u001b[1;33m\u001b[0m\u001b[1;33m\u001b[0m\u001b[0m\n\u001b[1;32m---> 70\u001b[1;33m             \u001b[1;32mraise\u001b[0m \u001b[0mValueError\u001b[0m\u001b[1;33m(\u001b[0m\u001b[1;34m\"Shapes must match\"\u001b[0m\u001b[1;33m,\u001b[0m \u001b[0mx\u001b[0m\u001b[1;33m.\u001b[0m\u001b[0mshape\u001b[0m\u001b[1;33m,\u001b[0m \u001b[0my\u001b[0m\u001b[1;33m.\u001b[0m\u001b[0mshape\u001b[0m\u001b[1;33m)\u001b[0m\u001b[1;33m\u001b[0m\u001b[1;33m\u001b[0m\u001b[0m\n\u001b[0m\u001b[0;32m     71\u001b[0m         \u001b[0mresult\u001b[0m \u001b[1;33m=\u001b[0m \u001b[0mlibops\u001b[0m\u001b[1;33m.\u001b[0m\u001b[0mvec_compare\u001b[0m\u001b[1;33m(\u001b[0m\u001b[0mx\u001b[0m\u001b[1;33m.\u001b[0m\u001b[0mravel\u001b[0m\u001b[1;33m(\u001b[0m\u001b[1;33m)\u001b[0m\u001b[1;33m,\u001b[0m \u001b[0my\u001b[0m\u001b[1;33m.\u001b[0m\u001b[0mravel\u001b[0m\u001b[1;33m(\u001b[0m\u001b[1;33m)\u001b[0m\u001b[1;33m,\u001b[0m \u001b[0mop\u001b[0m\u001b[1;33m)\u001b[0m\u001b[1;33m\u001b[0m\u001b[1;33m\u001b[0m\u001b[0m\n\u001b[0;32m     72\u001b[0m     \u001b[1;32melse\u001b[0m\u001b[1;33m:\u001b[0m\u001b[1;33m\u001b[0m\u001b[1;33m\u001b[0m\u001b[0m\n",
      "\u001b[1;31mValueError\u001b[0m: ('Shapes must match', (32,), (1,))"
     ]
    }
   ],
   "source": [
    "il = []\n",
    "for x in range(0, (sigparams.count() -1)):\n",
    "    if x == 0:\n",
    "        model = sm.OLS(endog= data_ols.actual_productivity, exog = data_ols.loc[:, data_ols.columns==sigparams.index[0]])\n",
    "        results = model.fit()\n",
    "        print(results.summary())\n",
    "        il.append(sigparams.index[0])\n",
    "    else:\n",
    "        il.append(sigparams.index[x])\n",
    "        print(il)\n",
    "        model = sm.OLS(endog= data_ols.actual_productivity, exog = data_ols.loc[:, data_ols.columns==[il]])\n",
    "        results = model.fit()\n",
    "        print(results.summary())\n",
    "\n",
    "\n"
   ]
  },
  {
   "cell_type": "code",
   "execution_count": null,
   "metadata": {},
   "outputs": [],
   "source": []
  }
 ],
 "metadata": {
  "kernelspec": {
   "display_name": "Python 3.7.9 64-bit",
   "language": "python",
   "name": "python3"
  },
  "language_info": {
   "codemirror_mode": {
    "name": "ipython",
    "version": 3
   },
   "file_extension": ".py",
   "mimetype": "text/x-python",
   "name": "python",
   "nbconvert_exporter": "python",
   "pygments_lexer": "ipython3",
   "version": "3.7.9"
  },
  "orig_nbformat": 4,
  "vscode": {
   "interpreter": {
    "hash": "c7fa09869fe5d7096201bd71ac4fb8e1ab1db187492d827d0b502baa9d21872a"
   }
  }
 },
 "nbformat": 4,
 "nbformat_minor": 2
}
