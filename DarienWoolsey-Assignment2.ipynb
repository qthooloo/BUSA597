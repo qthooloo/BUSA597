{
 "cells": [
  {
   "cell_type": "code",
   "execution_count": 3,
   "metadata": {},
   "outputs": [],
   "source": [
    "# Run in Python 3.7 kernel\n",
    "# Import libraries\n",
    "\n",
    "import pandas as pd\n",
    "import numpy as np # creating and manipulating arrays\n",
    "import matplotlib.pyplot as plt # visualizing data\n",
    "import sklearn # regression models\n",
    "import statsmodels.api as sm "
   ]
  },
  {
   "cell_type": "markdown",
   "metadata": {},
   "source": [
    "1. Develop Linear Regression model using Statmodels"
   ]
  },
  {
   "cell_type": "code",
   "execution_count": 14,
   "metadata": {},
   "outputs": [
    {
     "name": "stdout",
     "output_type": "stream",
     "text": [
      "                             OLS Regression Results                            \n",
      "===============================================================================\n",
      "Dep. Variable:     actual_productivity   R-squared:                       0.813\n",
      "Model:                             OLS   Adj. R-squared:                  0.805\n",
      "Method:                  Least Squares   F-statistic:                     99.37\n",
      "Date:                 Tue, 13 Sep 2022   Prob (F-statistic):          3.90e-219\n",
      "Time:                         00:31:53   Log-Likelihood:                 889.27\n",
      "No. Observations:                  691   AIC:                            -1719.\n",
      "Df Residuals:                      661   BIC:                            -1582.\n",
      "Df Model:                           29                                         \n",
      "Covariance Type:             nonrobust                                         \n",
      "=========================================================================================\n",
      "                            coef    std err          t      P>|t|      [0.025      0.975]\n",
      "-----------------------------------------------------------------------------------------\n",
      "targeted_productivity     0.6217      0.031     20.076      0.000       0.561       0.683\n",
      "smv                      -0.0040      0.001     -7.581      0.000      -0.005      -0.003\n",
      "wip                   -9.221e-07   1.51e-06     -0.612      0.540   -3.88e-06    2.03e-06\n",
      "over_time              -3.26e-06   1.09e-06     -2.997      0.003    -5.4e-06   -1.12e-06\n",
      "incentive                 0.0033      0.000     24.691      0.000       0.003       0.004\n",
      "idle_time                 0.0006      0.000      3.184      0.002       0.000       0.001\n",
      "idle_men                 -0.0063      0.001     -8.094      0.000      -0.008      -0.005\n",
      "no_of_style_change        0.0086      0.006      1.387      0.166      -0.004       0.021\n",
      "no_of_workers             0.0020      0.001      3.171      0.002       0.001       0.003\n",
      "quarter_Quarter2         -0.0064      0.007     -0.896      0.371      -0.020       0.008\n",
      "quarter_Quarter3         -0.0074      0.008     -0.919      0.358      -0.023       0.008\n",
      "quarter_Quarter4         -0.0154      0.008     -1.887      0.060      -0.031       0.001\n",
      "quarter_Quarter5         -0.0287      0.016     -1.817      0.070      -0.060       0.002\n",
      "department_finishing  -1.256e-17   3.54e-17     -0.355      0.722    -8.2e-17    5.69e-17\n",
      "department_sweing         0.1457      0.041      3.551      0.000       0.065       0.226\n",
      "day_Saturday             -0.0037      0.010     -0.381      0.703      -0.023       0.015\n",
      "day_Sunday               -0.0105      0.009     -1.148      0.251      -0.029       0.007\n",
      "day_Thursday             -0.0064      0.009     -0.692      0.489      -0.025       0.012\n",
      "day_Tuesday              -0.0031      0.009     -0.340      0.734      -0.021       0.015\n",
      "day_Wednesday            -0.0097      0.009     -1.061      0.289      -0.028       0.008\n",
      "team_2                    0.0148      0.013      1.135      0.257      -0.011       0.040\n",
      "team_3                    0.0042      0.013      0.325      0.745      -0.021       0.030\n",
      "team_4                    0.0143      0.013      1.096      0.273      -0.011       0.040\n",
      "team_5                    0.0071      0.014      0.519      0.604      -0.020       0.034\n",
      "team_6                    0.0233      0.019      1.246      0.213      -0.013       0.060\n",
      "team_7                    0.0250      0.014      1.800      0.072      -0.002       0.052\n",
      "team_8                    0.0057      0.014      0.416      0.678      -0.021       0.032\n",
      "team_9                    0.0010      0.013      0.075      0.940      -0.025       0.027\n",
      "team_10                  -0.0095      0.013     -0.716      0.474      -0.036       0.017\n",
      "team_11                  -0.0433      0.014     -3.060      0.002      -0.071      -0.016\n",
      "team_12                  -0.0019      0.019     -0.099      0.921      -0.039       0.035\n",
      "==============================================================================\n",
      "Omnibus:                      166.759   Durbin-Watson:                   1.701\n",
      "Prob(Omnibus):                  0.000   Jarque-Bera (JB):              893.814\n",
      "Skew:                          -0.970   Prob(JB):                    8.14e-195\n",
      "Kurtosis:                       8.223   Cond. No.                     1.11e+16\n",
      "==============================================================================\n",
      "\n",
      "Notes:\n",
      "[1] Standard Errors assume that the covariance matrix of the errors is correctly specified.\n",
      "[2] The smallest eigenvalue is 2.92e-22. This might indicate that there are\n",
      "strong multicollinearity problems or that the design matrix is singular.\n"
     ]
    }
   ],
   "source": [
    "data = pd.read_csv(\"garments_worker_productivity.csv\", header = 0, index_col = 0) # read in data\n",
    "data = pd.get_dummies(data, columns=[\"quarter\",\"department\",\"day\",\"team\"], drop_first=True) # create dummy variables for categorical data\n",
    "data = data.dropna() # drop rows with NaN values\n",
    "data_ols = sm.add_constant(data)\n",
    "model = sm.OLS(endog= data_ols.actual_productivity, exog = data_ols.loc[:, data_ols.columns!='actual_productivity']) # use actual productivity as the dependent variable, and everything else as independent\n",
    "results = model.fit()\n",
    "print(results.summary())"
   ]
  },
  {
   "cell_type": "markdown",
   "metadata": {},
   "source": [
    "2. Select the best features using forward selection"
   ]
  },
  {
   "cell_type": "code",
   "execution_count": 17,
   "metadata": {},
   "outputs": [
    {
     "name": "stdout",
     "output_type": "stream",
     "text": [
      "<bound method RegressionResults.get_prediction of <statsmodels.regression.linear_model.OLSResults object at 0x0000020404D08248>>\n"
     ]
    }
   ],
   "source": [
    "\n"
   ]
  }
 ],
 "metadata": {
  "kernelspec": {
   "display_name": "Python 3.7.9 64-bit",
   "language": "python",
   "name": "python3"
  },
  "language_info": {
   "codemirror_mode": {
    "name": "ipython",
    "version": 3
   },
   "file_extension": ".py",
   "mimetype": "text/x-python",
   "name": "python",
   "nbconvert_exporter": "python",
   "pygments_lexer": "ipython3",
   "version": "3.7.9"
  },
  "orig_nbformat": 4,
  "vscode": {
   "interpreter": {
    "hash": "c7fa09869fe5d7096201bd71ac4fb8e1ab1db187492d827d0b502baa9d21872a"
   }
  }
 },
 "nbformat": 4,
 "nbformat_minor": 2
}
