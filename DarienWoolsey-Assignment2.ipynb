{
 "cells": [
  {
   "cell_type": "code",
   "execution_count": 60,
   "metadata": {},
   "outputs": [],
   "source": [
    "# Run in Python 3.7 kernel\n",
    "# Import libraries\n",
    "\n",
    "import pandas as pd\n",
    "import numpy as np # creating and manipulating arrays\n",
    "import matplotlib.pyplot as plt # visualizing data\n",
    "import sklearn # regression models\n",
    "import statsmodels.api as sm "
   ]
  },
  {
   "cell_type": "markdown",
   "metadata": {},
   "source": [
    "1. Develop Linear Regression model using Statmodels"
   ]
  },
  {
   "cell_type": "code",
   "execution_count": 61,
   "metadata": {},
   "outputs": [
    {
     "name": "stdout",
     "output_type": "stream",
     "text": [
      "                             OLS Regression Results                            \n",
      "===============================================================================\n",
      "Dep. Variable:     actual_productivity   R-squared:                       0.813\n",
      "Model:                             OLS   Adj. R-squared:                  0.805\n",
      "Method:                  Least Squares   F-statistic:                     99.37\n",
      "Date:                 Tue, 13 Sep 2022   Prob (F-statistic):          3.90e-219\n",
      "Time:                         23:36:44   Log-Likelihood:                 889.27\n",
      "No. Observations:                  691   AIC:                            -1719.\n",
      "Df Residuals:                      661   BIC:                            -1582.\n",
      "Df Model:                           29                                         \n",
      "Covariance Type:             nonrobust                                         \n",
      "=========================================================================================\n",
      "                            coef    std err          t      P>|t|      [0.025      0.975]\n",
      "-----------------------------------------------------------------------------------------\n",
      "targeted_productivity     0.6217      0.031     20.076      0.000       0.561       0.683\n",
      "smv                      -0.0040      0.001     -7.581      0.000      -0.005      -0.003\n",
      "wip                   -9.221e-07   1.51e-06     -0.612      0.540   -3.88e-06    2.03e-06\n",
      "over_time              -3.26e-06   1.09e-06     -2.997      0.003    -5.4e-06   -1.12e-06\n",
      "incentive                 0.0033      0.000     24.691      0.000       0.003       0.004\n",
      "idle_time                 0.0006      0.000      3.184      0.002       0.000       0.001\n",
      "idle_men                 -0.0063      0.001     -8.094      0.000      -0.008      -0.005\n",
      "no_of_style_change        0.0086      0.006      1.387      0.166      -0.004       0.021\n",
      "no_of_workers             0.0020      0.001      3.171      0.002       0.001       0.003\n",
      "quarter_Quarter2         -0.0064      0.007     -0.896      0.371      -0.020       0.008\n",
      "quarter_Quarter3         -0.0074      0.008     -0.919      0.358      -0.023       0.008\n",
      "quarter_Quarter4         -0.0154      0.008     -1.887      0.060      -0.031       0.001\n",
      "quarter_Quarter5         -0.0287      0.016     -1.817      0.070      -0.060       0.002\n",
      "department_finishing  -1.256e-17   3.54e-17     -0.355      0.722    -8.2e-17    5.69e-17\n",
      "department_sweing         0.1457      0.041      3.551      0.000       0.065       0.226\n",
      "day_Saturday             -0.0037      0.010     -0.381      0.703      -0.023       0.015\n",
      "day_Sunday               -0.0105      0.009     -1.148      0.251      -0.029       0.007\n",
      "day_Thursday             -0.0064      0.009     -0.692      0.489      -0.025       0.012\n",
      "day_Tuesday              -0.0031      0.009     -0.340      0.734      -0.021       0.015\n",
      "day_Wednesday            -0.0097      0.009     -1.061      0.289      -0.028       0.008\n",
      "team_2                    0.0148      0.013      1.135      0.257      -0.011       0.040\n",
      "team_3                    0.0042      0.013      0.325      0.745      -0.021       0.030\n",
      "team_4                    0.0143      0.013      1.096      0.273      -0.011       0.040\n",
      "team_5                    0.0071      0.014      0.519      0.604      -0.020       0.034\n",
      "team_6                    0.0233      0.019      1.246      0.213      -0.013       0.060\n",
      "team_7                    0.0250      0.014      1.800      0.072      -0.002       0.052\n",
      "team_8                    0.0057      0.014      0.416      0.678      -0.021       0.032\n",
      "team_9                    0.0010      0.013      0.075      0.940      -0.025       0.027\n",
      "team_10                  -0.0095      0.013     -0.716      0.474      -0.036       0.017\n",
      "team_11                  -0.0433      0.014     -3.060      0.002      -0.071      -0.016\n",
      "team_12                  -0.0019      0.019     -0.099      0.921      -0.039       0.035\n",
      "==============================================================================\n",
      "Omnibus:                      166.759   Durbin-Watson:                   1.701\n",
      "Prob(Omnibus):                  0.000   Jarque-Bera (JB):              893.814\n",
      "Skew:                          -0.970   Prob(JB):                    8.14e-195\n",
      "Kurtosis:                       8.223   Cond. No.                     1.11e+16\n",
      "==============================================================================\n",
      "\n",
      "Notes:\n",
      "[1] Standard Errors assume that the covariance matrix of the errors is correctly specified.\n",
      "[2] The smallest eigenvalue is 2.92e-22. This might indicate that there are\n",
      "strong multicollinearity problems or that the design matrix is singular.\n"
     ]
    }
   ],
   "source": [
    "data = pd.read_csv(\"garments_worker_productivity.csv\", header = 0) # read in data\n",
    "data = pd.get_dummies(data, columns=[\"quarter\",\"department\",\"day\",\"team\"], drop_first=True) # create dummy variables for categorical data\n",
    "data = data.dropna() # drop rows with NaN values\n",
    "data = data.drop('date', axis=1) # drop dates\n",
    "data_ols = sm.add_constant(data)\n",
    "model = sm.OLS(endog= data_ols.actual_productivity, exog = data_ols.loc[:, data_ols.columns!='actual_productivity']) # use actual productivity as the dependent variable, and everything else as independent\n",
    "results = model.fit()\n",
    "print(results.summary())\n",
    "\n",
    "# Compile Significant Variables\n",
    "sigparams = results.params[results.pvalues < 0.05] # Get significant variables\n",
    "sigparams = sigparams.to_frame() # Create a dataframe of them\n",
    "sigparams.columns = ['coefficient'] # Name the columns\n",
    "sigparams = sigparams['coefficient'].astype(float) # Convert to float so that you can sort it by absolute value\n",
    "sigparams = sigparams.sort_values(key=abs, ascending=False) # Order by absolute value\n",
    "\n",
    "data_new = np.array([[0],[1],[2],[3],[4],[5],[6]]) #you'll use this later"
   ]
  },
  {
   "cell_type": "markdown",
   "metadata": {},
   "source": [
    "2. Select the best features using forward selection"
   ]
  },
  {
   "cell_type": "code",
   "execution_count": 62,
   "metadata": {},
   "outputs": [
    {
     "name": "stdout",
     "output_type": "stream",
     "text": [
      "targeted_productivity    0.621713\n",
      "department_sweing        0.145683\n",
      "team_11                 -0.043256\n",
      "idle_men                -0.006253\n",
      "smv                     -0.003984\n",
      "incentive                0.003253\n",
      "no_of_workers            0.002039\n",
      "idle_time                0.000614\n",
      "over_time               -0.000003\n",
      "Name: coefficient, dtype: float64\n"
     ]
    }
   ],
   "source": [
    "# Show significant parameters\n",
    "print(sigparams)"
   ]
  },
  {
   "cell_type": "markdown",
   "metadata": {},
   "source": [
    "Test Models"
   ]
  },
  {
   "cell_type": "code",
   "execution_count": 63,
   "metadata": {},
   "outputs": [
    {
     "name": "stdout",
     "output_type": "stream",
     "text": [
      "[]\n",
      "0.9773934809944065\n",
      "['targeted_productivity', 'department_sweing']\n",
      "0.4864174278778667\n",
      "['targeted_productivity', 'department_sweing', 'team_11']\n",
      "0.4859171427117741\n",
      "['targeted_productivity', 'department_sweing', 'team_11', 'idle_men']\n",
      "0.5326273408778037\n",
      "['targeted_productivity', 'department_sweing', 'team_11', 'idle_men', 'smv']\n",
      "0.5530013010538016\n",
      "['targeted_productivity', 'department_sweing', 'team_11', 'idle_men', 'smv', 'incentive']\n",
      "0.792823221566805\n",
      "['targeted_productivity', 'department_sweing', 'team_11', 'idle_men', 'smv', 'incentive', 'no_of_workers']\n",
      "0.7986647279602157\n",
      "['targeted_productivity', 'department_sweing', 'team_11', 'idle_men', 'smv', 'incentive', 'no_of_workers', 'idle_time']\n",
      "0.8011087556246014\n",
      "['targeted_productivity', 'department_sweing', 'team_11', 'idle_men', 'smv', 'incentive', 'no_of_workers', 'idle_time', 'over_time']\n",
      "0.8048791450397842\n"
     ]
    }
   ],
   "source": [
    "il = [] #create blank list to assign features to\n",
    "for x in range(0, (sigparams.count())):\n",
    "    if x == 0:\n",
    "        model = sm.OLS(endog= data_ols.actual_productivity, exog = data_ols.loc[:, data_ols.columns==sigparams.index[0]])\n",
    "        results = model.fit()\n",
    "        print(il)\n",
    "        print(results.rsquared_adj)\n",
    "        il.append(sigparams.index[0])\n",
    "    else:\n",
    "        il.append(sigparams.index[x])\n",
    "        model = sm.OLS(endog= data_ols.actual_productivity, exog = data_ols[il])\n",
    "        results = model.fit()\n",
    "        print(il)\n",
    "        print(results.rsquared_adj)\n",
    "\n",
    "\n"
   ]
  },
  {
   "cell_type": "markdown",
   "metadata": {},
   "source": [
    "The model above with only targeted productivity in the model has an adjusted r-squared of 97.7%\n",
    "\n",
    "However, since it is a target, not a metric, it isn't useful for predicting productivity, so we will remove it from the model."
   ]
  },
  {
   "cell_type": "code",
   "execution_count": 64,
   "metadata": {},
   "outputs": [
    {
     "name": "stdout",
     "output_type": "stream",
     "text": [
      "department_sweing    0.145683\n",
      "team_11             -0.043256\n",
      "idle_men            -0.006253\n",
      "smv                 -0.003984\n",
      "incentive            0.003253\n",
      "no_of_workers        0.002039\n",
      "idle_time            0.000614\n",
      "over_time           -0.000003\n",
      "Name: coefficient, dtype: float64\n"
     ]
    }
   ],
   "source": [
    "sigparams = sigparams.drop('targeted_productivity')\n",
    "print(sigparams)"
   ]
  },
  {
   "cell_type": "markdown",
   "metadata": {},
   "source": [
    "Now we will re-run the analysis"
   ]
  },
  {
   "cell_type": "code",
   "execution_count": 65,
   "metadata": {},
   "outputs": [
    {
     "name": "stdout",
     "output_type": "stream",
     "text": [
      "[]\n",
      "0.0\n",
      "['department_sweing', 'team_11']\n",
      "0.006763257386616206\n",
      "['department_sweing', 'team_11', 'idle_men']\n",
      "0.0733043559579889\n",
      "['department_sweing', 'team_11', 'idle_men', 'smv']\n",
      "0.10661507975692541\n",
      "['department_sweing', 'team_11', 'idle_men', 'smv', 'incentive']\n",
      "0.6693164460449099\n",
      "['department_sweing', 'team_11', 'idle_men', 'smv', 'incentive', 'no_of_workers']\n",
      "0.6691637981027212\n",
      "['department_sweing', 'team_11', 'idle_men', 'smv', 'incentive', 'no_of_workers', 'idle_time']\n",
      "0.6699514156001276\n",
      "['department_sweing', 'team_11', 'idle_men', 'smv', 'incentive', 'no_of_workers', 'idle_time', 'over_time']\n",
      "0.6812456091514572\n"
     ]
    }
   ],
   "source": [
    "il = []\n",
    "for x in range(0, (sigparams.count())):\n",
    "    if x == 0:\n",
    "        model = sm.OLS(endog= data_ols.actual_productivity, exog = data_ols.loc[:, data_ols.columns==sigparams.index[0]])\n",
    "        results = model.fit()\n",
    "        print(il)\n",
    "        print(results.rsquared_adj)\n",
    "        il.append(sigparams.index[0])\n",
    "    else:\n",
    "        il.append(sigparams.index[x])\n",
    "        model = sm.OLS(endog= data_ols.actual_productivity, exog = data_ols[il])\n",
    "        results = model.fit()\n",
    "        print(il)\n",
    "        print(results.rsquared_adj)"
   ]
  },
  {
   "cell_type": "markdown",
   "metadata": {},
   "source": [
    "Every addition above increased the adjusted r squared value, except for no_of_workers.\n",
    "\n",
    "Best features:\n",
    "'department_sweing', 'team_11', 'idle_men', 'smv', 'incentive', 'idle_time', 'over_time'"
   ]
  },
  {
   "cell_type": "markdown",
   "metadata": {},
   "source": [
    "3. Compare the performance of OLS and SGD implementation of linear model\n",
    "\n",
    "\n",
    "I definitely messed something up here... tried adapting the model you gave us, but I think I changed something somewhere and can't find it again"
   ]
  },
  {
   "cell_type": "code",
   "execution_count": 68,
   "metadata": {},
   "outputs": [
    {
     "name": "stdout",
     "output_type": "stream",
     "text": [
      "                             OLS Regression Results                            \n",
      "===============================================================================\n",
      "Dep. Variable:     actual_productivity   R-squared:                       0.682\n",
      "Model:                             OLS   Adj. R-squared:                  0.680\n",
      "Method:                  Least Squares   F-statistic:                     245.1\n",
      "Date:                 Tue, 13 Sep 2022   Prob (F-statistic):          1.09e-166\n",
      "Time:                         23:37:40   Log-Likelihood:                 705.61\n",
      "No. Observations:                  691   AIC:                            -1397.\n",
      "Df Residuals:                      684   BIC:                            -1365.\n",
      "Df Model:                            6                                         \n",
      "Covariance Type:             nonrobust                                         \n",
      "=====================================================================================\n",
      "                        coef    std err          t      P>|t|      [0.025      0.975]\n",
      "-------------------------------------------------------------------------------------\n",
      "department_sweing     0.6141      0.015     40.888      0.000       0.585       0.644\n",
      "team_11              -0.0512      0.013     -4.044      0.000      -0.076      -0.026\n",
      "idle_men             -0.0053      0.001     -5.517      0.000      -0.007      -0.003\n",
      "smv                  -0.0018      0.001     -3.471      0.001      -0.003      -0.001\n",
      "incentive             0.0044      0.000     35.056      0.000       0.004       0.005\n",
      "idle_time             0.0005      0.000      2.049      0.041    2.06e-05       0.001\n",
      "over_time         -5.702e-06   1.23e-06     -4.638      0.000   -8.12e-06   -3.29e-06\n",
      "==============================================================================\n",
      "Omnibus:                       74.213   Durbin-Watson:                   1.441\n",
      "Prob(Omnibus):                  0.000   Jarque-Bera (JB):              163.671\n",
      "Skew:                          -0.613   Prob(JB):                     2.88e-36\n",
      "Kurtosis:                       5.045   Cond. No.                     3.50e+04\n",
      "==============================================================================\n",
      "\n",
      "Notes:\n",
      "[1] Standard Errors assume that the covariance matrix of the errors is correctly specified.\n",
      "[2] The condition number is large, 3.5e+04. This might indicate that there are\n",
      "strong multicollinearity or other numerical problems.\n"
     ]
    }
   ],
   "source": [
    "#final OLS model\n",
    "model = sm.OLS(endog= data_ols.actual_productivity, exog = data_ols[['department_sweing', 'team_11', 'idle_men', 'smv', 'incentive', 'idle_time', 'over_time']])\n",
    "results = model.fit()\n",
    "print(results.summary())"
   ]
  },
  {
   "cell_type": "code",
   "execution_count": 67,
   "metadata": {},
   "outputs": [
    {
     "name": "stdout",
     "output_type": "stream",
     "text": [
      "[[1. 0.]\n",
      " [1. 1.]\n",
      " [1. 2.]\n",
      " [1. 3.]\n",
      " [1. 4.]\n",
      " [1. 5.]\n",
      " [1. 6.]]\n"
     ]
    },
    {
     "ename": "ValueError",
     "evalue": "shapes (7,2) and (7,) not aligned: 2 (dim 1) != 7 (dim 0)",
     "output_type": "error",
     "traceback": [
      "\u001b[1;31m---------------------------------------------------------------------------\u001b[0m",
      "\u001b[1;31mValueError\u001b[0m                                Traceback (most recent call last)",
      "\u001b[1;32m~\\AppData\\Local\\Temp\\ipykernel_2404\\1128912216.py\u001b[0m in \u001b[0;36m<module>\u001b[1;34m\u001b[0m\n\u001b[0;32m      1\u001b[0m \u001b[0mdata_new_ols\u001b[0m \u001b[1;33m=\u001b[0m \u001b[0msm\u001b[0m\u001b[1;33m.\u001b[0m\u001b[0madd_constant\u001b[0m\u001b[1;33m(\u001b[0m\u001b[0mdata_new\u001b[0m\u001b[1;33m)\u001b[0m\u001b[1;33m\u001b[0m\u001b[1;33m\u001b[0m\u001b[0m\n\u001b[0;32m      2\u001b[0m \u001b[0mprint\u001b[0m\u001b[1;33m(\u001b[0m\u001b[0mdata_new_ols\u001b[0m\u001b[1;33m)\u001b[0m\u001b[1;33m\u001b[0m\u001b[1;33m\u001b[0m\u001b[0m\n\u001b[1;32m----> 3\u001b[1;33m \u001b[0mols_output\u001b[0m \u001b[1;33m=\u001b[0m \u001b[0mresults\u001b[0m\u001b[1;33m.\u001b[0m\u001b[0mget_prediction\u001b[0m\u001b[1;33m(\u001b[0m\u001b[0mdata_new_ols\u001b[0m\u001b[1;33m)\u001b[0m\u001b[1;33m.\u001b[0m\u001b[0msummary_frame\u001b[0m\u001b[1;33m(\u001b[0m\u001b[0malpha\u001b[0m\u001b[1;33m=\u001b[0m\u001b[1;36m0.05\u001b[0m\u001b[1;33m)\u001b[0m\u001b[1;33m\u001b[0m\u001b[1;33m\u001b[0m\u001b[0m\n\u001b[0m\u001b[0;32m      4\u001b[0m \u001b[1;33m\u001b[0m\u001b[0m\n\u001b[0;32m      5\u001b[0m \u001b[0mols_output_list\u001b[0m \u001b[1;33m=\u001b[0m \u001b[0mols_output\u001b[0m\u001b[1;33m[\u001b[0m\u001b[1;34m'mean'\u001b[0m\u001b[1;33m]\u001b[0m\u001b[1;33m.\u001b[0m\u001b[0mtolist\u001b[0m\u001b[1;33m(\u001b[0m\u001b[1;33m)\u001b[0m\u001b[1;33m\u001b[0m\u001b[1;33m\u001b[0m\u001b[0m\n",
      "\u001b[1;32mc:\\Users\\Qthooloo\\AppData\\Local\\Programs\\Python\\Python37\\lib\\site-packages\\statsmodels\\regression\\linear_model.py\u001b[0m in \u001b[0;36mget_prediction\u001b[1;34m(self, exog, transform, weights, row_labels, **kwargs)\u001b[0m\n\u001b[0;32m   2639\u001b[0m         return pred.get_prediction(\n\u001b[0;32m   2640\u001b[0m             \u001b[0mself\u001b[0m\u001b[1;33m,\u001b[0m \u001b[0mexog\u001b[0m\u001b[1;33m=\u001b[0m\u001b[0mexog\u001b[0m\u001b[1;33m,\u001b[0m \u001b[0mtransform\u001b[0m\u001b[1;33m=\u001b[0m\u001b[0mtransform\u001b[0m\u001b[1;33m,\u001b[0m \u001b[0mweights\u001b[0m\u001b[1;33m=\u001b[0m\u001b[0mweights\u001b[0m\u001b[1;33m,\u001b[0m\u001b[1;33m\u001b[0m\u001b[1;33m\u001b[0m\u001b[0m\n\u001b[1;32m-> 2641\u001b[1;33m             row_labels=row_labels, **kwargs)\n\u001b[0m\u001b[0;32m   2642\u001b[0m \u001b[1;33m\u001b[0m\u001b[0m\n\u001b[0;32m   2643\u001b[0m     def summary(\n",
      "\u001b[1;32mc:\\Users\\Qthooloo\\AppData\\Local\\Programs\\Python\\Python37\\lib\\site-packages\\statsmodels\\regression\\_prediction.py\u001b[0m in \u001b[0;36mget_prediction\u001b[1;34m(self, exog, transform, weights, row_labels, pred_kwds)\u001b[0m\n\u001b[0;32m    182\u001b[0m     \u001b[1;32mif\u001b[0m \u001b[0mpred_kwds\u001b[0m \u001b[1;32mis\u001b[0m \u001b[1;32mNone\u001b[0m\u001b[1;33m:\u001b[0m\u001b[1;33m\u001b[0m\u001b[1;33m\u001b[0m\u001b[0m\n\u001b[0;32m    183\u001b[0m         \u001b[0mpred_kwds\u001b[0m \u001b[1;33m=\u001b[0m \u001b[1;33m{\u001b[0m\u001b[1;33m}\u001b[0m\u001b[1;33m\u001b[0m\u001b[1;33m\u001b[0m\u001b[0m\n\u001b[1;32m--> 184\u001b[1;33m     \u001b[0mpredicted_mean\u001b[0m \u001b[1;33m=\u001b[0m \u001b[0mself\u001b[0m\u001b[1;33m.\u001b[0m\u001b[0mmodel\u001b[0m\u001b[1;33m.\u001b[0m\u001b[0mpredict\u001b[0m\u001b[1;33m(\u001b[0m\u001b[0mself\u001b[0m\u001b[1;33m.\u001b[0m\u001b[0mparams\u001b[0m\u001b[1;33m,\u001b[0m \u001b[0mexog\u001b[0m\u001b[1;33m,\u001b[0m \u001b[1;33m**\u001b[0m\u001b[0mpred_kwds\u001b[0m\u001b[1;33m)\u001b[0m\u001b[1;33m\u001b[0m\u001b[1;33m\u001b[0m\u001b[0m\n\u001b[0m\u001b[0;32m    185\u001b[0m \u001b[1;33m\u001b[0m\u001b[0m\n\u001b[0;32m    186\u001b[0m     \u001b[0mcovb\u001b[0m \u001b[1;33m=\u001b[0m \u001b[0mself\u001b[0m\u001b[1;33m.\u001b[0m\u001b[0mcov_params\u001b[0m\u001b[1;33m(\u001b[0m\u001b[1;33m)\u001b[0m\u001b[1;33m\u001b[0m\u001b[1;33m\u001b[0m\u001b[0m\n",
      "\u001b[1;32mc:\\Users\\Qthooloo\\AppData\\Local\\Programs\\Python\\Python37\\lib\\site-packages\\statsmodels\\regression\\linear_model.py\u001b[0m in \u001b[0;36mpredict\u001b[1;34m(self, params, exog)\u001b[0m\n\u001b[0;32m    379\u001b[0m             \u001b[0mexog\u001b[0m \u001b[1;33m=\u001b[0m \u001b[0mself\u001b[0m\u001b[1;33m.\u001b[0m\u001b[0mexog\u001b[0m\u001b[1;33m\u001b[0m\u001b[1;33m\u001b[0m\u001b[0m\n\u001b[0;32m    380\u001b[0m \u001b[1;33m\u001b[0m\u001b[0m\n\u001b[1;32m--> 381\u001b[1;33m         \u001b[1;32mreturn\u001b[0m \u001b[0mnp\u001b[0m\u001b[1;33m.\u001b[0m\u001b[0mdot\u001b[0m\u001b[1;33m(\u001b[0m\u001b[0mexog\u001b[0m\u001b[1;33m,\u001b[0m \u001b[0mparams\u001b[0m\u001b[1;33m)\u001b[0m\u001b[1;33m\u001b[0m\u001b[1;33m\u001b[0m\u001b[0m\n\u001b[0m\u001b[0;32m    382\u001b[0m \u001b[1;33m\u001b[0m\u001b[0m\n\u001b[0;32m    383\u001b[0m     \u001b[1;32mdef\u001b[0m \u001b[0mget_distribution\u001b[0m\u001b[1;33m(\u001b[0m\u001b[0mself\u001b[0m\u001b[1;33m,\u001b[0m \u001b[0mparams\u001b[0m\u001b[1;33m,\u001b[0m \u001b[0mscale\u001b[0m\u001b[1;33m,\u001b[0m \u001b[0mexog\u001b[0m\u001b[1;33m=\u001b[0m\u001b[1;32mNone\u001b[0m\u001b[1;33m,\u001b[0m \u001b[0mdist_class\u001b[0m\u001b[1;33m=\u001b[0m\u001b[1;32mNone\u001b[0m\u001b[1;33m)\u001b[0m\u001b[1;33m:\u001b[0m\u001b[1;33m\u001b[0m\u001b[1;33m\u001b[0m\u001b[0m\n",
      "\u001b[1;32m<__array_function__ internals>\u001b[0m in \u001b[0;36mdot\u001b[1;34m(*args, **kwargs)\u001b[0m\n",
      "\u001b[1;31mValueError\u001b[0m: shapes (7,2) and (7,) not aligned: 2 (dim 1) != 7 (dim 0)"
     ]
    }
   ],
   "source": [
    "data_new_ols = sm.add_constant(data_new)\n",
    "print(data_new_ols)\n",
    "ols_output = results.get_prediction(data_new_ols).summary_frame(alpha=0.05)  \n",
    "\n",
    "ols_output_list = ols_output['mean'].tolist()\n",
    "ols_output_list"
   ]
  },
  {
   "cell_type": "code",
   "execution_count": null,
   "metadata": {},
   "outputs": [],
   "source": [
    "from sklearn.linear_model import SGDRegressor\n",
    "from sklearn.pipeline import make_pipeline\n",
    "from sklearn.preprocessing import StandardScaler"
   ]
  },
  {
   "cell_type": "code",
   "execution_count": null,
   "metadata": {},
   "outputs": [
    {
     "data": {
      "text/plain": [
       "array([0.95480834, 0.74270098, 0.79226308, 0.77496485, 0.69514231,\n",
       "       0.72061068, 0.69309807, 0.72061068, 0.71624055, 0.73948359,\n",
       "       0.79226308, 0.53049124, 0.74588397, 0.74451493, 0.74504187,\n",
       "       0.80185362, 0.72281631, 0.77237841, 0.74758392, 0.69514231,\n",
       "       0.78755507, 0.73774694, 0.49284246, 0.69876001, 0.77297736,\n",
       "       0.78874321, 0.78957396, 0.72539099, 0.75752087, 0.80185362,\n",
       "       0.7438304 , 0.77297736, 0.68992149, 0.73774694, 0.69876001,\n",
       "       0.60418777, 0.85429524, 0.74724166, 0.69480005, 0.80185362,\n",
       "       0.72135549, 0.77169388, 0.77169388, 0.74246136, 0.74246136,\n",
       "       0.71992616, 0.73774694, 0.63558613, 0.8341018 , 0.8341018 ,\n",
       "       0.72278131, 0.72278131, 0.74077322, 0.78247512, 0.67546226,\n",
       "       0.67546226, 0.73482517, 0.69990385, 0.67041258, 0.66817658,\n",
       "       0.8341018 , 0.8341018 , 0.77160523, 0.77959307, 0.72278131,\n",
       "       0.7818241 , 0.74077322, 0.78042155, 0.72790388, 0.80478709,\n",
       "       0.69413439, 0.62503933, 0.89091355, 0.8341018 , 0.8310079 ,\n",
       "       0.77160523, 0.77160523, 0.78130437, 0.74077322, 0.7833271 ,\n",
       "       0.7296292 , 0.80478709, 0.56119484, 0.47786477, 0.8341018 ,\n",
       "       0.77160523, 0.77160523, 0.77907967, 0.77959307, 0.78589774,\n",
       "       0.7818241 , 0.78166018, 0.77856628, 0.73500884, 0.65463225,\n",
       "       0.53320167, 0.89091355, 0.8341018 , 0.70605321, 0.77160523,\n",
       "       0.7818241 , 0.78042155, 0.77856628, 0.66931291, 0.54211766,\n",
       "       0.61967118, 0.46167607, 0.53149036, 0.84779227, 0.8341018 ,\n",
       "       0.77160523, 0.77160523, 0.52226648, 0.78079731, 0.78726679,\n",
       "       0.77856628, 0.67835443, 0.52875227, 0.68085306, 0.53205924,\n",
       "       0.8341018 , 0.8341018 , 0.77109184, 0.77160523, 0.78042155,\n",
       "       0.78042155, 0.72175453, 0.71616864, 0.62281285, 0.51745763,\n",
       "       0.61648604, 0.61648604, 0.81530658, 0.8341018 , 0.77160523,\n",
       "       0.79582333, 0.72797994, 0.78166018, 0.53525524, 0.64540715,\n",
       "       0.6551616 , 0.59850174, 0.6139081 , 0.8341018 , 0.77845046,\n",
       "       0.77160523, 0.78166018, 0.73208708, 0.78452869, 0.51745763,\n",
       "       0.64685153, 0.62988438, 0.61626059, 0.61316485, 0.61752506,\n",
       "       0.83863585, 0.83723331, 0.72790388, 0.72790388, 0.73934961,\n",
       "       0.78166018, 0.63600719, 0.73425423, 0.67126917, 0.64685153,\n",
       "       0.64709914, 0.57090295, 0.83863585, 0.68480421, 0.67546226,\n",
       "       0.76455078, 0.73425423, 0.69106627, 0.77797188, 0.6687022 ,\n",
       "       0.67229317, 0.6285819 , 0.64929441, 0.56966544, 0.78815594,\n",
       "       0.7652104 , 0.78166018, 0.68102351, 0.79055259, 0.73425423,\n",
       "       0.79157937, 0.69851398, 0.6834665 , 0.59688812, 0.64606243,\n",
       "       0.65300333, 0.83812246, 0.72790388, 0.78166018, 0.79055259,\n",
       "       0.79157937, 0.74400868, 0.73295174, 0.69851398, 0.73772389,\n",
       "       0.6666938 , 0.64657583, 0.92705355, 0.88916153, 0.69086404,\n",
       "       0.77528404, 0.84402099, 0.7366971 , 0.79055259, 0.69851398,\n",
       "       0.66302958, 0.65163429, 0.61668194, 0.61677398, 0.8702418 ,\n",
       "       0.77459952, 0.8332973 , 0.75661829, 0.77881112, 0.79055259,\n",
       "       0.69299576, 0.69851398, 0.64821167, 0.61574719, 0.60872748,\n",
       "       0.63291127, 0.92523767, 0.92602676, 0.84220511, 0.81780018,\n",
       "       0.83740444, 0.81677339, 0.72729562, 0.67197808, 0.7366971 ,\n",
       "       0.62937099, 0.62388281, 0.6348406 , 0.92602676, 0.86688574,\n",
       "       0.84066493, 0.75507811, 0.83671991, 0.81780018, 0.69055288,\n",
       "       0.72729562, 0.7366971 , 0.61543073, 0.60205593, 0.68412627,\n",
       "       0.77795557, 0.77990816, 0.81677339, 0.75480241, 0.7756263 ,\n",
       "       0.75661829, 0.76360244, 0.67661262, 0.72729562, 0.68617984,\n",
       "       0.55573897, 1.05478904, 1.05478904, 0.84133696, 0.79729335,\n",
       "       0.7736268 , 0.74016514, 0.73893252, 0.68686437, 0.68563573,\n",
       "       0.66841285, 0.53953757, 0.92805514, 1.02856824, 0.79763562,\n",
       "       0.8872503 , 0.92188067, 0.75359201, 0.79697689, 0.76352129,\n",
       "       0.69622999, 0.50891271, 0.671014  , 0.53419568, 1.02856824,\n",
       "       0.97175648, 0.9189726 , 0.91999939, 0.8872503 , 0.75327555,\n",
       "       0.8906052 , 0.76009867, 0.70512879, 0.65869259, 0.53419568,\n",
       "       1.02788371, 1.02856824, 0.94185006, 0.92034165, 0.87632384,\n",
       "       0.8872503 , 0.76009867, 0.73164519, 0.70591778, 0.65869259,\n",
       "       0.53351115, 0.5348802 , 1.02822597, 1.04934162, 0.97175648,\n",
       "       0.86318764, 0.79592431, 0.71831447, 0.7758427 , 0.82159485,\n",
       "       0.67180299, 0.53284294, 0.53215842, 1.02675235, 0.91828808,\n",
       "       0.84065244, 0.91999939, 0.84218371, 0.75838367, 0.76201582,\n",
       "       0.7531438 , 0.68928353, 0.51981718, 0.53215842, 0.53284294,\n",
       "       1.02822597, 0.92873966, 0.97175648, 0.97107196, 0.81793351,\n",
       "       0.79427076, 0.67024299, 0.74830785, 0.68894127, 0.53250068,\n",
       "       0.53215842, 0.51981718, 0.97141422, 1.02856824, 1.02925276,\n",
       "       0.9189726 , 0.73019225, 0.75256522, 0.69270615, 0.53078937,\n",
       "       0.77492477, 0.52234293, 0.49760807, 0.58685052, 1.0289105 ,\n",
       "       1.02822597, 1.02925276, 0.97175648, 0.7493589 , 0.74016514,\n",
       "       0.68183696, 0.69612876, 0.51981718, 0.53078937, 0.6237529 ,\n",
       "       0.53147389, 1.02822597, 0.97175648, 0.91965713, 0.91999939,\n",
       "       0.83944562, 0.74016514, 0.72045453, 0.7258013 , 0.36149504,\n",
       "       0.65194801, 0.51673683, 0.41543942, 1.02822597, 0.91999939,\n",
       "       0.91965713, 0.91999939, 0.84629085, 0.74016514, 0.70676407,\n",
       "       0.7258013 , 0.51947492, 0.71312989, 0.53078937, 0.53147389,\n",
       "       0.95764817, 0.85913457, 0.87761669, 0.83944562, 0.76146402,\n",
       "       0.74016514, 0.75920188, 0.74428343, 0.69428031, 0.55749496,\n",
       "       0.51981718, 0.51981718, 0.95833269, 0.95833269, 0.95833269,\n",
       "       0.95833269, 0.71510445, 0.78263387, 0.56707829, 0.67772982,\n",
       "       0.71613098, 0.69428031, 0.62033028, 0.65092122, 0.96707296,\n",
       "       1.06758606, 0.90152094, 0.7269827 , 0.78263387, 0.76138536,\n",
       "       0.7621489 , 0.66461169, 0.70044102, 0.64086598, 0.53474301,\n",
       "       0.52659007, 1.17683943, 1.06758606, 0.78263387, 0.7638602 ,\n",
       "       0.55817949, 0.51913266, 0.51913266, 0.53206626, 0.5216584 ,\n",
       "       0.51913266, 0.53953467, 0.51981718, 1.02856824, 0.83944562,\n",
       "       0.82820136, 0.5187904 , 0.76351794, 0.53008503, 0.51844813,\n",
       "       0.63257936, 0.55749496, 0.65092122, 1.02856824, 0.79769338,\n",
       "       0.5187904 , 0.51913266, 0.64593848, 0.55749496, 0.63052579,\n",
       "       0.5187904 , 0.65092122, 0.53440074, 0.55064973, 1.02856824,\n",
       "       0.8314154 , 0.55951953, 0.73224582, 0.55817949, 0.51947492,\n",
       "       0.68720095, 0.5822815 , 0.66385482, 0.55172065, 0.54996521,\n",
       "       1.02856824, 0.73019225, 0.5616021 , 0.71613098, 0.68583191,\n",
       "       0.65666733, 0.73832392, 0.5187904 , 0.54928069, 0.49651643,\n",
       "       0.5207541 , 0.39017984, 0.65700959, 0.77528817, 0.55951953,\n",
       "       0.83944562, 0.82649005, 0.70676407, 0.74316965, 0.73432492,\n",
       "       0.68586091, 0.52006958, 0.3552642 , 0.36984297, 0.74730533,\n",
       "       0.82717458, 0.79479341, 0.74929669, 0.80290703, 0.73832392,\n",
       "       0.65632507, 0.52523948, 0.67696211, 0.45012689, 0.52006958,\n",
       "       0.54623951, 0.83944562, 0.80163864, 0.75483555, 0.69662225,\n",
       "       0.52006958, 0.52522102, 0.69339067, 0.6571864 , 0.54192074,\n",
       "       0.4099791 , 0.3897442 , 0.83944562, 0.68485552, 0.68485552,\n",
       "       0.71647324, 0.75483555, 0.5289859 , 0.67787003, 0.69662225,\n",
       "       0.65223638, 0.72134798, 0.54192074, 0.78263387, 0.73729713,\n",
       "       0.74106201, 0.724003  , 0.75825817, 0.67411437, 0.72702947,\n",
       "       0.68060812, 0.7096282 , 0.69475972, 0.53986718, 0.54499207,\n",
       "       0.78990109, 0.75475248, 0.78263387, 0.7376394 , 0.75483555,\n",
       "       0.72218585, 0.7177884 , 0.65223638, 0.66760218, 0.53948078,\n",
       "       0.7668109 , 0.54499207, 0.75475248, 0.74711688, 0.83944562,\n",
       "       0.75483555, 0.71847293, 0.74525223, 0.76585989, 0.55659386,\n",
       "       0.51938506, 0.65897697, 0.69148928, 0.62884692, 0.76320318,\n",
       "       0.84865186, 0.72079299, 0.73216339, 0.75483555, 0.77955035,\n",
       "       0.74182961, 0.7149707 , 0.53307552, 0.6565282 , 0.65806882,\n",
       "       0.62679335, 0.83944562, 0.76996703, 0.75483555, 0.71847293,\n",
       "       0.69375813, 0.6921738 , 0.67400744, 0.6930299 , 0.54881955,\n",
       "       0.65351358, 0.62747787, 0.43769846, 0.81102353, 0.83944562,\n",
       "       0.76320318, 0.75264502, 0.51913266, 0.71292478, 0.71847293,\n",
       "       0.74182961, 0.76766445, 0.67469326, 0.68564434, 0.76357894,\n",
       "       0.78848834, 0.78263387, 0.7403236 , 0.7376394 , 0.74478699,\n",
       "       0.76654441, 0.69375813, 0.75697811, 0.6565282 , 0.67743006,\n",
       "       0.39217388, 0.71113732, 0.78263387, 0.79713535, 0.755437  ,\n",
       "       0.78818773, 0.74448638, 0.69375813, 0.69954503, 0.67332292,\n",
       "       0.52181686, 0.55587527, 0.55817949, 0.74407002, 0.82588533,\n",
       "       0.78263387, 0.74448638, 0.74182961, 0.74380186, 0.69954503,\n",
       "       0.67195387, 0.57983359, 0.33210725, 0.55868253, 0.89188724,\n",
       "       0.82504385, 0.78818773, 0.79713535, 0.74407002, 0.75757364,\n",
       "       0.67195387, 0.56186441, 0.55908276, 0.62962287, 0.81072293,\n",
       "       0.8100384 , 0.75885962, 0.83944562, 0.74407002, 0.74525223,\n",
       "       0.67195387, 0.68954584, 0.65822681, 0.52047228, 0.62580822,\n",
       "       0.80969614, 0.80901162, 0.74859177, 0.83944562, 0.74407002,\n",
       "       0.74182961, 0.6854387 , 0.67195387, 0.69903153, 0.63409579,\n",
       "       0.62580822, 0.52115681, 0.85305523, 0.81619911, 0.83944562,\n",
       "       0.79513567, 0.74407002, 0.68943441, 0.74182961, 0.6508918 ,\n",
       "       0.67718086, 0.72982457, 0.63891862, 0.62904113, 0.83944562,\n",
       "       0.79513567, 0.74407002, 0.68943441, 0.74867484, 0.75167524,\n",
       "       0.72195119, 0.72195119, 0.65708369, 0.6508918 , 0.72088221,\n",
       "       0.63341126])"
      ]
     },
     "execution_count": 39,
     "metadata": {},
     "output_type": "execute_result"
    }
   ],
   "source": [
    "reg = make_pipeline(StandardScaler(), SGDRegressor(max_iter=1000, tol=1e-3))\n",
    "reg.fit(data_ols[['department_sweing', 'team_11', 'idle_men', 'smv', 'incentive', 'idle_time', 'over_time']], data_ols.actual_productivity)\n",
    "\n",
    "y_pred = reg.predict(data_ols[['department_sweing', 'team_11', 'idle_men', 'smv', 'incentive', 'idle_time', 'over_time']])\n",
    "y_pred"
   ]
  },
  {
   "cell_type": "code",
   "execution_count": null,
   "metadata": {},
   "outputs": [
    {
     "ename": "NameError",
     "evalue": "name 'data_new' is not defined",
     "output_type": "error",
     "traceback": [
      "\u001b[1;31m---------------------------------------------------------------------------\u001b[0m",
      "\u001b[1;31mNameError\u001b[0m                                 Traceback (most recent call last)",
      "\u001b[1;32m~\\AppData\\Local\\Temp\\ipykernel_2404\\2939336372.py\u001b[0m in \u001b[0;36m<module>\u001b[1;34m\u001b[0m\n\u001b[1;32m----> 1\u001b[1;33m \u001b[0mplt\u001b[0m\u001b[1;33m.\u001b[0m\u001b[0mplot\u001b[0m\u001b[1;33m(\u001b[0m\u001b[0mdata_new\u001b[0m\u001b[1;33m,\u001b[0m \u001b[0mols_output_list\u001b[0m\u001b[1;33m,\u001b[0m \u001b[1;34m\"r-\"\u001b[0m\u001b[1;33m,\u001b[0m \u001b[0mlinewidth\u001b[0m\u001b[1;33m=\u001b[0m\u001b[1;36m2\u001b[0m\u001b[1;33m,\u001b[0m \u001b[0mlabel\u001b[0m\u001b[1;33m=\u001b[0m\u001b[1;34m\"Statmodels Predictions\"\u001b[0m\u001b[1;33m)\u001b[0m\u001b[1;33m\u001b[0m\u001b[1;33m\u001b[0m\u001b[0m\n\u001b[0m\u001b[0;32m      2\u001b[0m \u001b[0mplt\u001b[0m\u001b[1;33m.\u001b[0m\u001b[0mplot\u001b[0m\u001b[1;33m(\u001b[0m\u001b[0mdata_new\u001b[0m\u001b[1;33m,\u001b[0m \u001b[0msk_output\u001b[0m\u001b[1;33m,\u001b[0m \u001b[1;34m\"g-\"\u001b[0m\u001b[1;33m,\u001b[0m \u001b[0mlinestyle\u001b[0m\u001b[1;33m=\u001b[0m\u001b[1;34m'dashed'\u001b[0m\u001b[1;33m,\u001b[0m  \u001b[0mlinewidth\u001b[0m\u001b[1;33m=\u001b[0m\u001b[1;36m2\u001b[0m\u001b[1;33m,\u001b[0m \u001b[0mlabel\u001b[0m\u001b[1;33m=\u001b[0m\u001b[1;34m\"Sklearn Predictions\"\u001b[0m\u001b[1;33m)\u001b[0m\u001b[1;33m\u001b[0m\u001b[1;33m\u001b[0m\u001b[0m\n\u001b[0;32m      3\u001b[0m \u001b[0mplt\u001b[0m\u001b[1;33m.\u001b[0m\u001b[0mplot\u001b[0m\u001b[1;33m(\u001b[0m\u001b[0mdata_new\u001b[0m\u001b[1;33m,\u001b[0m \u001b[0my_pred\u001b[0m\u001b[1;33m,\u001b[0m \u001b[1;34m\"black\"\u001b[0m\u001b[1;33m,\u001b[0m \u001b[0mlinestyle\u001b[0m\u001b[1;33m=\u001b[0m\u001b[1;34m'dashdot'\u001b[0m\u001b[1;33m,\u001b[0m  \u001b[0mlinewidth\u001b[0m\u001b[1;33m=\u001b[0m\u001b[1;36m4\u001b[0m\u001b[1;33m,\u001b[0m \u001b[0mlabel\u001b[0m\u001b[1;33m=\u001b[0m\u001b[1;34m\"SGDRegressor Predictions\"\u001b[0m\u001b[1;33m)\u001b[0m\u001b[1;33m\u001b[0m\u001b[1;33m\u001b[0m\u001b[0m\n\u001b[0;32m      4\u001b[0m \u001b[1;33m\u001b[0m\u001b[0m\n\u001b[0;32m      5\u001b[0m \u001b[1;33m\u001b[0m\u001b[0m\n",
      "\u001b[1;31mNameError\u001b[0m: name 'data_new' is not defined"
     ]
    }
   ],
   "source": [
    "plt.plot(data_new, ols_output_list, \"r-\", linewidth=2, label=\"Statmodels Predictions\")\n",
    "plt.plot(data_new, sk_output, \"g-\", linestyle='dashed',  linewidth=2, label=\"Sklearn Predictions\")\n",
    "plt.plot(data_new, y_pred, \"black\", linestyle='dashdot',  linewidth=4, label=\"SGDRegressor Predictions\")\n",
    "\n",
    "\n",
    "plt.plot(data, output, \"b.\")\n",
    "plt.legend(loc=\"upper left\", fontsize=14)\n",
    "plt.show()"
   ]
  },
  {
   "cell_type": "markdown",
   "metadata": {},
   "source": [
    "4."
   ]
  }
 ],
 "metadata": {
  "kernelspec": {
   "display_name": "Python 3.7.9 64-bit",
   "language": "python",
   "name": "python3"
  },
  "language_info": {
   "codemirror_mode": {
    "name": "ipython",
    "version": 3
   },
   "file_extension": ".py",
   "mimetype": "text/x-python",
   "name": "python",
   "nbconvert_exporter": "python",
   "pygments_lexer": "ipython3",
   "version": "3.7.9"
  },
  "orig_nbformat": 4,
  "vscode": {
   "interpreter": {
    "hash": "c7fa09869fe5d7096201bd71ac4fb8e1ab1db187492d827d0b502baa9d21872a"
   }
  }
 },
 "nbformat": 4,
 "nbformat_minor": 2
}
